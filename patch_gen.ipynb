{
 "cells": [
  {
   "cell_type": "code",
   "execution_count": 3,
   "metadata": {},
   "outputs": [],
   "source": [
    "import numpy as np\n",
    "import csv\n",
    "import matplotlib.pyplot as plt\n",
    "import torch\n",
    "import torchvision\n",
    "import torchvision.transforms as transforms\n",
    "from torch.utils.data import DataLoader\n",
    "from torch.utils.data.sampler import SubsetRandomSampler"
   ]
  },
  {
   "cell_type": "code",
   "execution_count": null,
   "metadata": {},
   "outputs": [],
   "source": [
    "# Seed control for reproducibility\n",
    "def set_seed(seed=None):\n",
    "    if seed is not None:\n",
    "        np.random.seed(seed)\n",
    "        torch.manual_seed(seed)\n",
    "        torch.cuda.manual_seed_all(seed)"
   ]
  },
  {
   "cell_type": "code",
   "execution_count": null,
   "metadata": {},
   "outputs": [],
   "source": [
    "def dataloader(\n",
    "    train_size, test_size, data_dir, batch_size, num_workers, total_num=50000\n",
    "):\n",
    "    # Setup the transformation\n",
    "    train_transforms = transforms.Compose(\n",
    "        [\n",
    "            transforms.RandomCrop(32, padding=4),\n",
    "            transforms.RandomHorizontalFlip(),\n",
    "            transforms.ToTensor(),\n",
    "            transforms.Normalize((0.4914, 0.4822, 0.4465), (0.247, 0.243, 0.261)),\n",
    "        ]\n",
    "    )\n",
    "\n",
    "    test_transforms = transforms.Compose(\n",
    "        [\n",
    "            transforms.ToTensor(),\n",
    "            transforms.Normalize((0.4914, 0.4822, 0.4465), (0.247, 0.243, 0.261)),\n",
    "        ]\n",
    "    )\n",
    "\n",
    "    train_dataset = torchvision.datasets.CIFAR10(\n",
    "        root=\"./data\", train=True, transform=train_transforms, download=True\n",
    "    )\n",
    "    test_dataset = torchvision.datasets.CIFAR10(\n",
    "        root=\"./data\", train=False, transform=test_transforms, download=True\n",
    "    )\n",
    "\n",
    "    train_indices = np.arange(len(train_dataset))\n",
    "    np.random.shuffle(train_indices)\n",
    "    train_indices = train_indices[:train_size]\n",
    "\n",
    "    test_indices = np.arange(len(test_dataset))\n",
    "    np.random.shuffle(test_indices)\n",
    "    test_indices = test_indices[:test_size]\n",
    "\n",
    "    train_loader = DataLoader(\n",
    "        train_dataset,\n",
    "        batch_size=batch_size,\n",
    "        sampler=SubsetRandomSampler(train_indices),\n",
    "        num_workers=num_workers,\n",
    "    )\n",
    "    test_loader = DataLoader(\n",
    "        test_dataset,\n",
    "        batch_size=batch_size,\n",
    "        sampler=SubsetRandomSampler(test_indices),\n",
    "        num_workers=num_workers,\n",
    "    )\n",
    "\n",
    "    return train_loader, test_loader"
   ]
  },
  {
   "cell_type": "code",
   "execution_count": null,
   "metadata": {},
   "outputs": [],
   "source": [
    "def test(model, dataloader, device):\n",
    "    model.eval()\n",
    "    correct, total, loss = 0, 0, 0\n",
    "    with torch.no_grad():\n",
    "        for image, label in dataloader:\n",
    "            image = image.to(device)\n",
    "            label = label.to(device)\n",
    "            outputs = model(image)\n",
    "            _, predicted = torch.max(outputs.data, 1)\n",
    "            total += label.shape[0]\n",
    "            correct += (predicted == label).sum().item()\n",
    "    return correct / total\n",
    "\n",
    "\n",
    "# Load the log and generate the training line\n",
    "def log_generation(log_dir):\n",
    "    # Load the statistics in the log\n",
    "    epochs, train_rate, test_rate = [], [], []\n",
    "    with open(log_dir, \"r\") as f:\n",
    "        reader = csv.reader(f)\n",
    "        flag = 0\n",
    "        for i in reader:\n",
    "            if flag == 0:\n",
    "                flag += 1\n",
    "                continue\n",
    "            else:\n",
    "                epochs.append(int(i[0]))\n",
    "                train_rate.append(float(i[1]))\n",
    "                test_rate.append(float(i[2]))\n",
    "\n",
    "    # Generate the success line\n",
    "    plt.figure(num=0)\n",
    "    plt.plot(epochs, test_rate, label=\"test_success_rate\", linewidth=2, color=\"r\")\n",
    "    plt.plot(epochs, train_rate, label=\"train_success_rate\", linewidth=2, color=\"b\")\n",
    "    plt.xlabel(\"epoch\")\n",
    "    plt.ylabel(\"success rate\")\n",
    "    plt.xlim(-1, max(epochs) + 1)\n",
    "    plt.ylim(0, 1.0)\n",
    "    plt.title(\"patch attack success rate\")\n",
    "    plt.legend()\n",
    "    plt.savefig(\"training_pictures/patch_attack_success_rate.png\")\n",
    "    plt.close(0)"
   ]
  },
  {
   "cell_type": "markdown",
   "metadata": {},
   "source": [
    "### Patch generation test"
   ]
  },
  {
   "cell_type": "code",
   "execution_count": 5,
   "metadata": {},
   "outputs": [],
   "source": [
    "def visualize_patch(patch):\n",
    "    # Transpose the patch to (height, width, channels) for visualization\n",
    "    patch_transposed = patch.transpose(1, 2, 0)\n",
    "    plt.imshow(patch_transposed)\n",
    "    plt.title(\"Adversarial Patch\")\n",
    "    plt.axis(\"off\")  # Turn off axis labels\n",
    "    plt.show()"
   ]
  },
  {
   "cell_type": "code",
   "execution_count": 6,
   "metadata": {},
   "outputs": [],
   "source": [
    "def patch_initialization(\n",
    "    patch_type=\"rectangle\", image_size=(3, 32, 32), patch_size=5, seed=None\n",
    "):\n",
    "    if seed is not None:\n",
    "        set_seed(seed)\n",
    "    if patch_type == \"rectangle\":\n",
    "        # Ensure patch size is within the bounds of the image\n",
    "        patch_height = patch_width = patch_size\n",
    "        patch = np.random.rand(image_size[0], patch_height, patch_width)\n",
    "        return patch\n",
    "    else:\n",
    "        raise ValueError(\"Unsupported patch type. Only 'rectangle' is supported.\")"
   ]
  },
  {
   "cell_type": "code",
   "execution_count": 10,
   "metadata": {},
   "outputs": [
    {
     "data": {
      "image/png": "[encoded data removed]",
      "text/plain": [
       "<Figure size 640x480 with 1 Axes>"
      ]
     },
     "metadata": {},
     "output_type": "display_data"
    }
   ],
   "source": [
    "patch = patch_initialization(patch_type=\"rectangle\", patch_size=16)\n",
    "visualize_patch(patch)"
   ]
  },
  {
   "cell_type": "code",
   "execution_count": null,
   "metadata": {},
   "outputs": [],
   "source": []
  },
  {
   "cell_type": "code",
   "execution_count": null,
   "metadata": {},
   "outputs": [],
   "source": []
  },
  {
   "cell_type": "code",
   "execution_count": null,
   "metadata": {},
   "outputs": [],
   "source": [
    "def mask_generation(mask_type=\"rectangle\", patch=None, image_size=(3, 32, 32)):\n",
    "    applied_patch = np.zeros(image_size)\n",
    "\n",
    "    if mask_type == \"rectangle\":\n",
    "        # Rotation restricted to 4 directions (0, 90, 180, 270 degrees)\n",
    "        rotation_angle = np.random.choice(4)\n",
    "        for i in range(patch.shape[0]):\n",
    "            patch[i] = np.rot90(patch[i], rotation_angle)\n",
    "\n",
    "        # Determine a random location within the CIFAR-10 image boundaries\n",
    "        x_location = np.random.randint(0, image_size[1] - patch.shape[1])\n",
    "        y_location = np.random.randint(0, image_size[2] - patch.shape[2])\n",
    "\n",
    "        # Apply the rotated patch at the chosen location\n",
    "        applied_patch[\n",
    "            :,\n",
    "            x_location : x_location + patch.shape[1],\n",
    "            y_location : y_location + patch.shape[2],\n",
    "        ] = patch\n",
    "\n",
    "    # Create a mask to identify where the patch was applied\n",
    "    mask = applied_patch.copy()\n",
    "    mask[mask != 0] = 1.0\n",
    "\n",
    "    return applied_patch, mask, x_location, y_location"
   ]
  }
 ],
 "metadata": {
  "kernelspec": {
   "display_name": "base",
   "language": "python",
   "name": "python3"
  },
  "language_info": {
   "codemirror_mode": {
    "name": "ipython",
    "version": 3
   },
   "file_extension": ".py",
   "mimetype": "text/x-python",
   "name": "python",
   "nbconvert_exporter": "python",
   "pygments_lexer": "ipython3",
   "version": "3.11.8"
  }
 },
 "nbformat": 4,
 "nbformat_minor": 2
}
