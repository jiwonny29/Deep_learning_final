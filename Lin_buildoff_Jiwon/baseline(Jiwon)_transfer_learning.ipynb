{
 "cells": [
  {
   "cell_type": "markdown",
   "metadata": {},
   "source": [
    "# Transfer Attack - Targeted ASR(%) by Model, Target Class, and Patch Size\n",
    "\n",
    "| Target Class | Transfer to Model | Patch Size (3, 3) | Patch Size (5, 5) | Patch Size (7, 7) | Patch Size (16, 16) |\n",
    "|--------------|-------------------|-------------------|-------------------|-------------------|---------------------|\n",
    "| **horse (7)**| **densenet**      | 8.48              | 8.75              | 7.90              | 0.96                |\n",
    "|              | **vgg**           | 8.60              | 7.95              | 7.89              | 2.53                |\n",
    "|              | **mobilenet**     | 10.00             | 10.55             | 10.14             | 4.84                |\n",
    "|              | **efficientnet**  | 10.25             | 10.23             | 10.02             | 5.21                |\n",
    "| **ship (8)** | **densenet**      | 9.83              | 9.68              | 9.83              | 15.61               |\n",
    "|              | **vgg**           | 10.45             | 9.16              | 8.69              | 1.95                |\n",
    "|              | **mobilenet**     | 9.38              | 8.73              | 8.76              | 12.03               |\n",
    "|              | **efficientnet**  | 9.65              | 9.31              | 8.70              | 10.74               |\n",
    "| **truck (9)**| **densenet**      | 8.81              | 8.79              | 8.53              | 10.00               |\n",
    "|              | **vgg**           | 9.99              | 9.99              | 11.59             | 46.60               |\n",
    "|              | **mobilenet**     | 10.23             | 10.12             | 9.59              | 9.10                |\n",
    "|              | **efficientnet**  | 10.50             | 10.42             | 10.64             | 15.70               |"
   ]
  },
  {
   "cell_type": "code",
   "execution_count": null,
   "metadata": {
    "colab": {
     "base_uri": "https://localhost:8080/"
    },
    "id": "gEATjvH9UL45",
    "outputId": "26dee52a-d612-4b7a-f823-318c38fe2aa9"
   },
   "outputs": [
    {
     "name": "stdout",
     "output_type": "stream",
     "text": [
      "Mounted at /content/drive\n"
     ]
    }
   ],
   "source": [
    "from google.colab import drive\n",
    "\n",
    "drive.mount(\"/content/drive\")"
   ]
  },
  {
   "cell_type": "code",
   "execution_count": 2,
   "metadata": {
    "colab": {
     "base_uri": "https://localhost:8080/"
    },
    "id": "2Wt7KbtRUMkP",
    "outputId": "b0036ced-a4f1-45dc-93d6-079714f36933"
   },
   "outputs": [
    {
     "name": "stdout",
     "output_type": "stream",
     "text": [
      "/content/drive/MyDrive/661 DL Final Project/Lin Transfer Learning\n"
     ]
    }
   ],
   "source": [
    "%cd /content/drive/MyDrive/661\\ DL\\ Final\\ Project/Lin\\ Transfer\\ Learning"
   ]
  },
  {
   "cell_type": "code",
   "execution_count": 3,
   "metadata": {
    "id": "NJQHC1npUHmL"
   },
   "outputs": [],
   "source": [
    "import torch\n",
    "import torch.nn as nn\n",
    "import torch.optim as optim\n",
    "import torchvision\n",
    "import torchvision.transforms as transforms\n",
    "from torchvision import models\n",
    "from torchvision.models import efficientnet_b0\n",
    "import matplotlib.pyplot as plt\n",
    "import numpy as np"
   ]
  },
  {
   "cell_type": "code",
   "execution_count": 4,
   "metadata": {
    "colab": {
     "base_uri": "https://localhost:8080/"
    },
    "id": "48SZKJAtUHmN",
    "outputId": "3ea7ae64-2c67-4d83-e10d-1713f2b7e3a2"
   },
   "outputs": [
    {
     "name": "stdout",
     "output_type": "stream",
     "text": [
      "Using GPU: CUDA\n"
     ]
    }
   ],
   "source": [
    "if torch.cuda.is_available():\n",
    "    device = torch.device(\"cuda\")\n",
    "    print(\"Using GPU: CUDA\")\n",
    "else:\n",
    "    device = torch.device(\"cpu\")\n",
    "    print(\"Using CPU\")"
   ]
  },
  {
   "cell_type": "code",
   "execution_count": 5,
   "metadata": {
    "colab": {
     "base_uri": "https://localhost:8080/"
    },
    "id": "9EwhbZZCUHmO",
    "outputId": "e2a9ddf0-1933-4a92-ed99-9c1d46c1ffef"
   },
   "outputs": [
    {
     "name": "stdout",
     "output_type": "stream",
     "text": [
      "Files already downloaded and verified\n",
      "Files already downloaded and verified\n"
     ]
    }
   ],
   "source": [
    "transform = transforms.Compose(\n",
    "    [\n",
    "        transforms.RandomHorizontalFlip(),\n",
    "        transforms.RandomCrop(32, padding=4),\n",
    "        transforms.ToTensor(),\n",
    "        transforms.Normalize((0.5, 0.5, 0.5), (0.5, 0.5, 0.5)),\n",
    "    ]\n",
    ")\n",
    "\n",
    "trainset = torchvision.datasets.CIFAR10(\n",
    "    root=\"./data\", train=True, download=True, transform=transform\n",
    ")\n",
    "trainloader = torch.utils.data.DataLoader(\n",
    "    trainset, batch_size=128, shuffle=True, num_workers=2\n",
    ")\n",
    "\n",
    "testset = torchvision.datasets.CIFAR10(\n",
    "    root=\"./data\", train=False, download=True, transform=transform\n",
    ")\n",
    "testloader = torch.utils.data.DataLoader(\n",
    "    testset, batch_size=100, shuffle=False, num_workers=2\n",
    ")"
   ]
  },
  {
   "cell_type": "code",
   "execution_count": 6,
   "metadata": {
    "id": "6DFQeSBFUHmO"
   },
   "outputs": [],
   "source": [
    "num_classes = 10"
   ]
  },
  {
   "cell_type": "code",
   "execution_count": null,
   "metadata": {
    "colab": {
     "base_uri": "https://localhost:8080/"
    },
    "id": "JOsF9EIpU-Gd",
    "outputId": "8c093e61-d342-4dac-a96e-b2b161fec67d"
   },
   "outputs": [
    {
     "name": "stderr",
     "output_type": "stream",
     "text": [
      "/usr/local/lib/python3.10/dist-packages/torchvision/models/_utils.py:208: UserWarning: The parameter 'pretrained' is deprecated since 0.13 and may be removed in the future, please use 'weights' instead.\n",
      "  warnings.warn(\n",
      "/usr/local/lib/python3.10/dist-packages/torchvision/models/_utils.py:223: UserWarning: Arguments other than a weight enum or `None` for 'weights' are deprecated since 0.13 and may be removed in the future. The current behavior is equivalent to passing `weights=None`.\n",
      "  warnings.warn(msg)\n",
      "<ipython-input-7-4497ace11367>:4: FutureWarning: You are using `torch.load` with `weights_only=False` (the current default value), which uses the default pickle module implicitly. It is possible to construct malicious pickle data which will execute arbitrary code during unpickling (See https://github.com/pytorch/pytorch/blob/main/SECURITY.md#untrusted-models for more details). In a future release, the default value for `weights_only` will be flipped to `True`. This limits the functions that could be executed during unpickling. Arbitrary objects will no longer be allowed to be loaded via this mode unless they are explicitly allowlisted by the user via `torch.serialization.add_safe_globals`. We recommend you start setting `weights_only=True` for any use case where you don't have full control of the loaded file. Please open an issue on GitHub for any issues related to this experimental feature.\n",
      "  densenet.load_state_dict(torch.load(\"transfer_models/cifar_densenet_pretrained.pth\"))\n",
      "<ipython-input-7-4497ace11367>:10: FutureWarning: You are using `torch.load` with `weights_only=False` (the current default value), which uses the default pickle module implicitly. It is possible to construct malicious pickle data which will execute arbitrary code during unpickling (See https://github.com/pytorch/pytorch/blob/main/SECURITY.md#untrusted-models for more details). In a future release, the default value for `weights_only` will be flipped to `True`. This limits the functions that could be executed during unpickling. Arbitrary objects will no longer be allowed to be loaded via this mode unless they are explicitly allowlisted by the user via `torch.serialization.add_safe_globals`. We recommend you start setting `weights_only=True` for any use case where you don't have full control of the loaded file. Please open an issue on GitHub for any issues related to this experimental feature.\n",
      "  vgg.load_state_dict(torch.load(\"transfer_models/cifar_vgg_pretrained.pth\"))\n",
      "<ipython-input-7-4497ace11367>:16: FutureWarning: You are using `torch.load` with `weights_only=False` (the current default value), which uses the default pickle module implicitly. It is possible to construct malicious pickle data which will execute arbitrary code during unpickling (See https://github.com/pytorch/pytorch/blob/main/SECURITY.md#untrusted-models for more details). In a future release, the default value for `weights_only` will be flipped to `True`. This limits the functions that could be executed during unpickling. Arbitrary objects will no longer be allowed to be loaded via this mode unless they are explicitly allowlisted by the user via `torch.serialization.add_safe_globals`. We recommend you start setting `weights_only=True` for any use case where you don't have full control of the loaded file. Please open an issue on GitHub for any issues related to this experimental feature.\n",
      "  mobilenet.load_state_dict(torch.load(\"transfer_models/cifar_mobilenet_pretrained.pth\"))\n",
      "<ipython-input-7-4497ace11367>:22: FutureWarning: You are using `torch.load` with `weights_only=False` (the current default value), which uses the default pickle module implicitly. It is possible to construct malicious pickle data which will execute arbitrary code during unpickling (See https://github.com/pytorch/pytorch/blob/main/SECURITY.md#untrusted-models for more details). In a future release, the default value for `weights_only` will be flipped to `True`. This limits the functions that could be executed during unpickling. Arbitrary objects will no longer be allowed to be loaded via this mode unless they are explicitly allowlisted by the user via `torch.serialization.add_safe_globals`. We recommend you start setting `weights_only=True` for any use case where you don't have full control of the loaded file. Please open an issue on GitHub for any issues related to this experimental feature.\n",
      "  efficientnet.load_state_dict(torch.load(\"transfer_models/cifar_efficientnet_pretrained.pth\"))\n"
     ]
    }
   ],
   "source": [
    "# load densenet\n",
    "densenet = models.densenet121(\n",
    "    pretrained=False\n",
    ")  # Don't load the pre-trained weights initially\n",
    "densenet.classifier = nn.Linear(densenet.classifier.in_features, num_classes)\n",
    "densenet.load_state_dict(torch.load(\"transfer_models/cifar_densenet_pretrained.pth\"))\n",
    "densenet = densenet.to(device)\n",
    "\n",
    "# load vgg\n",
    "vgg = models.vgg16(pretrained=False)\n",
    "vgg.classifier[6] = nn.Linear(vgg.classifier[6].in_features, num_classes)\n",
    "vgg.load_state_dict(torch.load(\"transfer_models/cifar_vgg_pretrained.pth\"))\n",
    "vgg = vgg.to(device)\n",
    "\n",
    "# load mobilenet\n",
    "mobilenet = models.mobilenet_v2(pretrained=False)\n",
    "mobilenet.classifier[1] = nn.Linear(mobilenet.classifier[1].in_features, num_classes)\n",
    "mobilenet.load_state_dict(torch.load(\"transfer_models/cifar_mobilenet_pretrained.pth\"))\n",
    "mobilenet = mobilenet.to(device)\n",
    "\n",
    "# load efficientnet\n",
    "efficientnet = efficientnet_b0(pretrained=False)\n",
    "efficientnet.classifier[1] = nn.Linear(\n",
    "    efficientnet.classifier[1].in_features, num_classes\n",
    ")\n",
    "efficientnet.load_state_dict(\n",
    "    torch.load(\"transfer_models/cifar_efficientnet_pretrained.pth\")\n",
    ")\n",
    "efficientnet = efficientnet.to(device)"
   ]
  },
  {
   "cell_type": "code",
   "execution_count": 8,
   "metadata": {
    "id": "yE8CcA0_VaAY"
   },
   "outputs": [],
   "source": [
    "transfer_models = {\n",
    "    \"densenet\": densenet,\n",
    "    \"vgg\": vgg,\n",
    "    \"mobilenet\": mobilenet,\n",
    "    \"efficientnet\": efficientnet,\n",
    "}"
   ]
  },
  {
   "cell_type": "code",
   "execution_count": 9,
   "metadata": {
    "id": "TSM3enJbUHmO"
   },
   "outputs": [],
   "source": [
    "def create_patch(patch_size=(3, 3)):\n",
    "    patch = torch.randn(3, *patch_size, requires_grad=True, device=device)  # RGB\n",
    "    return patch\n",
    "\n",
    "\n",
    "def place_patch(img, patch):\n",
    "    patch = patch.to(img.device)\n",
    "    patched_img = img.clone()\n",
    "    batch_size, _, h, w = patched_img.size()\n",
    "    ph, pw = patch.size(1), patch.size(2)\n",
    "    for i in range(batch_size):\n",
    "        x_offset = torch.randint(0, h - ph + 1, (1,)).item()\n",
    "        y_offset = torch.randint(0, w - pw + 1, (1,)).item()\n",
    "        patched_img[i, :, x_offset : x_offset + ph, y_offset : y_offset + pw] = patch\n",
    "    return patched_img\n",
    "\n",
    "\n",
    "def patch_training_step(\n",
    "    model, patch, target_class=None, dataloader=None, optimizer=None, criterion=None\n",
    "):\n",
    "    model.train()\n",
    "    total_loss = 0\n",
    "\n",
    "    for images, labels in dataloader:\n",
    "        images, labels = images.to(device), labels.to(device)\n",
    "        optimizer.zero_grad()\n",
    "\n",
    "        patched_images = place_patch(images, patch)  # Apply patch to images\n",
    "        outputs = model(patched_images)\n",
    "\n",
    "        if target_class is not None:\n",
    "            labels = torch.full(\n",
    "                (images.size(0),), target_class, dtype=torch.long, device=device\n",
    "            )\n",
    "            # loss = criterion(outputs, labels)\n",
    "        else:\n",
    "            labels = torch.randint(0, 10, (images.size(0),), device=device)\n",
    "            # loss = -criterion(outputs, labels)  # reverse the loss\n",
    "\n",
    "        loss = criterion(outputs, labels)\n",
    "        loss.backward()\n",
    "        optimizer.step()\n",
    "\n",
    "        with torch.no_grad():\n",
    "            patch.clamp_(-1, 1)  # Ensure the patch values remain within a valid range\n",
    "\n",
    "        total_loss += loss.item()\n",
    "\n",
    "    return total_loss / len(dataloader)\n",
    "\n",
    "\n",
    "def train_adversarial_patch(\n",
    "    model, patch, dataloader=None, target_class=None, num_epochs=20, lr=0.0001\n",
    "):\n",
    "    if dataloader is None:\n",
    "        dataloader = trainloader\n",
    "\n",
    "    patch_optimizer = optim.Adam(\n",
    "        [patch], lr=lr\n",
    "    )  # Use Adam optimizer for learning rate adjustment\n",
    "\n",
    "    criterion = nn.CrossEntropyLoss()\n",
    "    for epoch in range(num_epochs):\n",
    "        loss = patch_training_step(\n",
    "            model, patch, target_class, dataloader, patch_optimizer, criterion\n",
    "        )\n",
    "        print(f\"Epoch {epoch+1}/{num_epochs}, Loss: {loss:.4f}\")"
   ]
  },
  {
   "cell_type": "code",
   "execution_count": 10,
   "metadata": {
    "id": "Sf5i-ecFUHmO"
   },
   "outputs": [],
   "source": [
    "def evaluate_patch(model, patch, dataloader, target_class=None):\n",
    "    model.eval()\n",
    "    correct = 0\n",
    "    total = 0\n",
    "    with torch.no_grad():\n",
    "        for images, labels in dataloader:\n",
    "            images, labels = images.to(device), labels.to(device)\n",
    "            patched_images = place_patch(images, patch)\n",
    "            outputs = model(patched_images)\n",
    "            _, predicted = outputs.max(1)\n",
    "            if target_class is not None:\n",
    "                correct += (predicted == target_class).sum().item()\n",
    "            else:\n",
    "                correct += (\n",
    "                    (predicted != labels).sum().item()\n",
    "                )  # Evaluate untargeted attack\n",
    "            total += labels.size(0)\n",
    "\n",
    "    accuracy = 100 * correct / total\n",
    "\n",
    "    if target_class is not None:\n",
    "        print(f\"Targeted Attack Success Rate (Class {target_class}): {accuracy:.2f}%\")\n",
    "    else:\n",
    "        print(f\"Untargeted Attack Success Rate: {accuracy:.2f}%\")"
   ]
  },
  {
   "cell_type": "code",
   "execution_count": 11,
   "metadata": {
    "id": "_9TbLW7IUHmP"
   },
   "outputs": [],
   "source": [
    "target_classes = [7, 8, 9]"
   ]
  },
  {
   "cell_type": "code",
   "execution_count": 12,
   "metadata": {
    "id": "ZxKK39dXUHmP"
   },
   "outputs": [],
   "source": [
    "class_names = {\n",
    "    0: \"airplane\",\n",
    "    1: \"automobile\",\n",
    "    2: \"bird\",\n",
    "    3: \"cat\",\n",
    "    4: \"deer\",\n",
    "    5: \"dog\",\n",
    "    6: \"frog\",\n",
    "    7: \"horse\",\n",
    "    8: \"ship\",\n",
    "    9: \"truck\",\n",
    "}"
   ]
  },
  {
   "cell_type": "code",
   "execution_count": 13,
   "metadata": {
    "id": "L2hioA_yUHmP"
   },
   "outputs": [],
   "source": [
    "def denormalize(tensor, mean=(0.5, 0.5, 0.5), std=(0.5, 0.5, 0.5)):\n",
    "    \"\"\"\n",
    "    Denormalize a tensor image.\n",
    "\n",
    "    Args:\n",
    "        tensor (torch.Tensor): Normalized image tensor.\n",
    "        mean (tuple): Mean used for normalization.\n",
    "        std (tuple): Standard deviation used for normalization.\n",
    "\n",
    "    Returns:\n",
    "        torch.Tensor: Denormalized image tensor.\n",
    "    \"\"\"\n",
    "    for t, m, s in zip(tensor, mean, std):\n",
    "        t.mul_(s).add_(m)\n",
    "    return tensor\n",
    "\n",
    "\n",
    "def visualize_misclassified_patched_images(\n",
    "    model, patch, dataloader, target_class=None, num_images=5\n",
    "):\n",
    "    \"\"\"\n",
    "    Visualize misclassified images after applying the adversarial patch.\n",
    "\n",
    "    Args:\n",
    "        model (nn.Module): Trained CIFAR-10 classifier.\n",
    "        patch (torch.Tensor): Trained adversarial patch.\n",
    "        dataloader (DataLoader): DataLoader for evaluation data.\n",
    "        target_class (int, optional): Target class for targeted attacks. Defaults to None for untargeted attacks.\n",
    "        num_images (int, optional): Number of misclassified images to visualize. Defaults to 5.\n",
    "    \"\"\"\n",
    "    model.eval()\n",
    "    misclassified = []\n",
    "\n",
    "    with torch.no_grad():\n",
    "        for images, labels in dataloader:\n",
    "            images, labels = images.to(device), labels.to(device)\n",
    "            patched_images = place_patch(images, patch)\n",
    "            outputs = model(patched_images)\n",
    "            _, predicted = outputs.max(1)\n",
    "\n",
    "            if target_class is not None:\n",
    "                # Only include images not originally of target_class but predicted as target_class\n",
    "                mask = (predicted == target_class) & (labels != target_class)\n",
    "            else:\n",
    "                # Untargeted Attack: Any prediction that doesn't match the true label\n",
    "                mask = predicted != labels\n",
    "\n",
    "            for i in range(images.size(0)):\n",
    "                if mask[i]:\n",
    "                    misclassified.append(\n",
    "                        (\n",
    "                            images[i].cpu(),\n",
    "                            patched_images[i].cpu(),\n",
    "                            labels[i].cpu(),\n",
    "                            predicted[i].cpu(),\n",
    "                        )\n",
    "                    )\n",
    "                if len(misclassified) >= num_images:\n",
    "                    break\n",
    "            if len(misclassified) >= num_images:\n",
    "                break\n",
    "\n",
    "    if not misclassified:\n",
    "        print(\"No misclassified images found with the current patch.\")\n",
    "        return\n",
    "\n",
    "    # Plotting\n",
    "    for idx, (orig, patched, true_label, pred_label) in enumerate(misclassified):\n",
    "        orig = denormalize(orig).permute(1, 2, 0).numpy()\n",
    "        patched = denormalize(patched).permute(1, 2, 0).numpy()\n",
    "\n",
    "        orig = np.clip(orig, 0, 1)\n",
    "        patched = np.clip(patched, 0, 1)\n",
    "\n",
    "        plt.figure(figsize=(4, 2))\n",
    "\n",
    "        # Original Image\n",
    "        plt.subplot(1, 2, 1)\n",
    "        plt.imshow(orig)\n",
    "        plt.title(f\"Original\\nTrue: {class_names[true_label.item()]}\")\n",
    "        plt.axis(\"off\")\n",
    "\n",
    "        # Patched Image\n",
    "        plt.subplot(1, 2, 2)\n",
    "        plt.imshow(patched)\n",
    "        plt.title(f\"Patched\\nPredicted: {class_names[pred_label.item()]}\")\n",
    "        plt.axis(\"off\")\n",
    "\n",
    "        plt.tight_layout()\n",
    "        plt.show()"
   ]
  },
  {
   "cell_type": "code",
   "execution_count": null,
   "metadata": {
    "colab": {
     "base_uri": "https://localhost:8080/"
    },
    "id": "SAB6CFUwUHmP",
    "outputId": "59e04322-0939-4b5d-e69a-85475cb040c2"
   },
   "outputs": [
    {
     "name": "stdout",
     "output_type": "stream",
     "text": [
      "Target Class: horse\n",
      "Patch Size: (3, 3)\n",
      "Transfer to Model: densenet\n"
     ]
    },
    {
     "name": "stderr",
     "output_type": "stream",
     "text": [
      "<ipython-input-14-08ca63862843>:12: FutureWarning: You are using `torch.load` with `weights_only=False` (the current default value), which uses the default pickle module implicitly. It is possible to construct malicious pickle data which will execute arbitrary code during unpickling (See https://github.com/pytorch/pytorch/blob/main/SECURITY.md#untrusted-models for more details). In a future release, the default value for `weights_only` will be flipped to `True`. This limits the functions that could be executed during unpickling. Arbitrary objects will no longer be allowed to be loaded via this mode unless they are explicitly allowlisted by the user via `torch.serialization.add_safe_globals`. We recommend you start setting `weights_only=True` for any use case where you don't have full control of the loaded file. Please open an issue on GitHub for any issues related to this experimental feature.\n",
      "  patch = torch.load(patch_filename).to(device)\n"
     ]
    },
    {
     "name": "stdout",
     "output_type": "stream",
     "text": [
      "Targeted Attack Success Rate (Class 7): 8.48%\n",
      "Transfer to Model: vgg\n",
      "Targeted Attack Success Rate (Class 7): 8.60%\n",
      "Transfer to Model: mobilenet\n",
      "Targeted Attack Success Rate (Class 7): 10.00%\n",
      "Transfer to Model: efficientnet\n",
      "Targeted Attack Success Rate (Class 7): 10.25%\n",
      "Patch Size: (5, 5)\n",
      "Transfer to Model: densenet\n",
      "Targeted Attack Success Rate (Class 7): 8.75%\n",
      "Transfer to Model: vgg\n",
      "Targeted Attack Success Rate (Class 7): 7.95%\n",
      "Transfer to Model: mobilenet\n",
      "Targeted Attack Success Rate (Class 7): 10.55%\n",
      "Transfer to Model: efficientnet\n",
      "Targeted Attack Success Rate (Class 7): 10.23%\n",
      "Patch Size: (7, 7)\n",
      "Transfer to Model: densenet\n",
      "Targeted Attack Success Rate (Class 7): 7.90%\n",
      "Transfer to Model: vgg\n",
      "Targeted Attack Success Rate (Class 7): 7.89%\n",
      "Transfer to Model: mobilenet\n",
      "Targeted Attack Success Rate (Class 7): 10.14%\n",
      "Transfer to Model: efficientnet\n",
      "Targeted Attack Success Rate (Class 7): 10.02%\n",
      "Patch Size: (16, 16)\n",
      "Transfer to Model: densenet\n",
      "Targeted Attack Success Rate (Class 7): 0.96%\n",
      "Transfer to Model: vgg\n",
      "Targeted Attack Success Rate (Class 7): 2.53%\n",
      "Transfer to Model: mobilenet\n",
      "Targeted Attack Success Rate (Class 7): 4.84%\n",
      "Transfer to Model: efficientnet\n",
      "Targeted Attack Success Rate (Class 7): 5.21%\n",
      "Target Class: ship\n",
      "Patch Size: (3, 3)\n",
      "Transfer to Model: densenet\n",
      "Targeted Attack Success Rate (Class 8): 9.83%\n",
      "Transfer to Model: vgg\n",
      "Targeted Attack Success Rate (Class 8): 10.45%\n",
      "Transfer to Model: mobilenet\n",
      "Targeted Attack Success Rate (Class 8): 9.38%\n",
      "Transfer to Model: efficientnet\n",
      "Targeted Attack Success Rate (Class 8): 9.65%\n",
      "Patch Size: (5, 5)\n",
      "Transfer to Model: densenet\n",
      "Targeted Attack Success Rate (Class 8): 9.68%\n",
      "Transfer to Model: vgg\n",
      "Targeted Attack Success Rate (Class 8): 9.16%\n",
      "Transfer to Model: mobilenet\n",
      "Targeted Attack Success Rate (Class 8): 8.73%\n",
      "Transfer to Model: efficientnet\n",
      "Targeted Attack Success Rate (Class 8): 9.31%\n",
      "Patch Size: (7, 7)\n",
      "Transfer to Model: densenet\n",
      "Targeted Attack Success Rate (Class 8): 9.83%\n",
      "Transfer to Model: vgg\n",
      "Targeted Attack Success Rate (Class 8): 8.69%\n",
      "Transfer to Model: mobilenet\n",
      "Targeted Attack Success Rate (Class 8): 8.76%\n",
      "Transfer to Model: efficientnet\n",
      "Targeted Attack Success Rate (Class 8): 8.70%\n",
      "Patch Size: (16, 16)\n",
      "Transfer to Model: densenet\n",
      "Targeted Attack Success Rate (Class 8): 15.61%\n",
      "Transfer to Model: vgg\n",
      "Targeted Attack Success Rate (Class 8): 1.95%\n",
      "Transfer to Model: mobilenet\n",
      "Targeted Attack Success Rate (Class 8): 12.03%\n",
      "Transfer to Model: efficientnet\n",
      "Targeted Attack Success Rate (Class 8): 10.74%\n",
      "Target Class: truck\n",
      "Patch Size: (3, 3)\n",
      "Transfer to Model: densenet\n",
      "Targeted Attack Success Rate (Class 9): 8.81%\n",
      "Transfer to Model: vgg\n",
      "Targeted Attack Success Rate (Class 9): 9.99%\n",
      "Transfer to Model: mobilenet\n",
      "Targeted Attack Success Rate (Class 9): 10.23%\n",
      "Transfer to Model: efficientnet\n",
      "Targeted Attack Success Rate (Class 9): 10.50%\n",
      "Patch Size: (5, 5)\n",
      "Transfer to Model: densenet\n",
      "Targeted Attack Success Rate (Class 9): 8.79%\n",
      "Transfer to Model: vgg\n",
      "Targeted Attack Success Rate (Class 9): 9.99%\n",
      "Transfer to Model: mobilenet\n",
      "Targeted Attack Success Rate (Class 9): 10.12%\n",
      "Transfer to Model: efficientnet\n",
      "Targeted Attack Success Rate (Class 9): 10.42%\n",
      "Patch Size: (7, 7)\n",
      "Transfer to Model: densenet\n",
      "Targeted Attack Success Rate (Class 9): 8.53%\n",
      "Transfer to Model: vgg\n",
      "Targeted Attack Success Rate (Class 9): 11.59%\n",
      "Transfer to Model: mobilenet\n",
      "Targeted Attack Success Rate (Class 9): 9.59%\n",
      "Transfer to Model: efficientnet\n",
      "Targeted Attack Success Rate (Class 9): 10.64%\n",
      "Patch Size: (16, 16)\n",
      "Transfer to Model: densenet\n",
      "Targeted Attack Success Rate (Class 9): 10.00%\n",
      "Transfer to Model: vgg\n",
      "Targeted Attack Success Rate (Class 9): 46.60%\n",
      "Transfer to Model: mobilenet\n",
      "Targeted Attack Success Rate (Class 9): 9.10%\n",
      "Transfer to Model: efficientnet\n",
      "Targeted Attack Success Rate (Class 9): 15.70%\n"
     ]
    }
   ],
   "source": [
    "for target_class in target_classes:\n",
    "    print(f\"Target Class: {class_names[target_class]}\")\n",
    "\n",
    "    for patch_size in [(3, 3), (5, 5), (7, 7), (16, 16)]:\n",
    "        print(f\"Patch Size: {patch_size}\")\n",
    "\n",
    "        for model_name, model in transfer_models.items():\n",
    "            print(f\"Transfer to Model: {model_name}\")\n",
    "\n",
    "            patch_filename = f\"adversarial_patch_{class_names[target_class]}_{patch_size}_baseline.pth\"\n",
    "\n",
    "            patch = torch.load(patch_filename).to(device)\n",
    "\n",
    "            evaluate_patch(model, patch, testloader, target_class=target_class)"
   ]
  },
  {
   "cell_type": "code",
   "execution_count": 14,
   "metadata": {
    "id": "rSoO7_X6YYzM"
   },
   "outputs": [],
   "source": []
  }
 ],
 "metadata": {
  "accelerator": "GPU",
  "colab": {
   "gpuType": "T4",
   "provenance": []
  },
  "kernelspec": {
   "display_name": "Python 3",
   "name": "python3"
  },
  "language_info": {
   "codemirror_mode": {
    "name": "ipython",
    "version": 3
   },
   "file_extension": ".py",
   "mimetype": "text/x-python",
   "name": "python",
   "nbconvert_exporter": "python",
   "pygments_lexer": "ipython3",
   "version": "3.11.8"
  }
 },
 "nbformat": 4,
 "nbformat_minor": 0
}
