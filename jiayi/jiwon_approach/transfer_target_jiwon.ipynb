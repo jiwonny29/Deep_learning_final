{
  "nbformat": 4,
  "nbformat_minor": 0,
  "metadata": {
    "colab": {
      "provenance": [],
      "gpuType": "T4"
    },
    "kernelspec": {
      "name": "python3",
      "display_name": "Python 3"
    },
    "language_info": {
      "name": "python"
    },
    "accelerator": "GPU"
  },
  "cells": [
    {
      "cell_type": "code",
      "source": [
        "from google.colab import drive\n",
        "drive.mount('/content/drive')"
      ],
      "metadata": {
        "colab": {
          "base_uri": "https://localhost:8080/"
        },
        "id": "m_D4tIbWI-om",
        "outputId": "c9926b87-88c5-4c92-f942-583119821726"
      },
      "execution_count": 1,
      "outputs": [
        {
          "output_type": "stream",
          "name": "stdout",
          "text": [
            "Mounted at /content/drive\n"
          ]
        }
      ]
    },
    {
      "cell_type": "code",
      "source": [
        "%cd /content/drive/MyDrive/Colab\\ Notebooks/Deep_learning_final"
      ],
      "metadata": {
        "colab": {
          "base_uri": "https://localhost:8080/"
        },
        "id": "MiSFvSQVJFT7",
        "outputId": "d9bcb3e0-886d-4df8-8dde-51cde4e664b4"
      },
      "execution_count": 2,
      "outputs": [
        {
          "output_type": "stream",
          "name": "stdout",
          "text": [
            "/content/drive/MyDrive/Colab Notebooks/Deep_learning_final\n"
          ]
        }
      ]
    },
    {
      "cell_type": "markdown",
      "source": [
        "---\n",
        "\n",
        "| **Target Class** | **Transfer to Model** | **Patch Size (3,3)** | **Patch Size (5,5)** | **Patch Size (7,7)** | **Patch Size (16,16)** |\n",
        "|------------------|-----------------------|----------------------|----------------------|----------------------|-----------------------|\n",
        "| **Cat**          | DenseNet             | 8.84%               | 4.27%               | 3.64%               | 0.11%                |\n",
        "|                  | VGG                  | 0.94%               | 0.52%               | 0.58%               | 0.01%                |\n",
        "|                  | MobileNet            | 3.98%               | 0.79%               | 0.49%               | 0.00%                |\n",
        "|                  | EfficientNet         | 16.15%              | 12.28%              | 12.57%              | 32.40%               |\n",
        "| **Deer**         | DenseNet             | 0.10%               | 0.02%               | 0.03%               | 0.00%                |\n",
        "|                  | VGG                  | 0.00%               | 0.01%               | 0.11%               | 0.00%                |\n",
        "|                  | MobileNet            | 0.88%               | 0.30%               | 0.14%               | 0.00%                |\n",
        "|                  | EfficientNet         | 17.42%              | 15.32%              | 18.18%              | 2.49%                |\n",
        "| **Dog**          | DenseNet             | 2.27%               | 0.95%               | 7.88%               | 27.98%               |\n",
        "|                  | VGG                  | 0.15%               | 0.35%               | 6.04%               | 1.44%                |\n",
        "|                  | MobileNet            | 16.49%              | 13.43%              | 13.15%              | 0.18%                |\n",
        "|                  | EfficientNet         | 4.43%               | 5.94%               | 3.39%               | 10.07%               |\n",
        "| **Frog**         | DenseNet             | 0.78%               | 0.23%               | 0.40%               | 0.00%                |\n",
        "|                  | VGG                  | 0.01%               | 0.00%               | 0.03%               | 0.06%                |\n",
        "|                  | MobileNet            | 1.81%               | 0.44%               | 0.22%               | 0.00%                |\n",
        "|                  | EfficientNet         | 1.57%               | 1.88%               | 3.77%               | 0.25%                |\n",
        "\n",
        "---"
      ],
      "metadata": {
        "id": "sarK1EgEvpfX"
      }
    },
    {
      "cell_type": "markdown",
      "source": [
        "---\n",
        "\n",
        "| **Target Class** | **Patch Size** | **DenseNet** | **VGG** | **MobileNet** | **EfficientNet** |\n",
        "|------------------|----------------|--------------|---------|---------------|------------------|\n",
        "| **Cat**          | (3, 3)         | 8.84%        | 0.94%   | 3.98%         | 16.15%           |\n",
        "|                  | (5, 5)         | 4.27%        | 0.52%   | 0.79%         | 12.28%           |\n",
        "|                  | (7, 7)         | 3.64%        | 0.58%   | 0.49%         | 12.57%           |\n",
        "|                  | (16, 16)       | 0.11%        | 0.01%   | 0.00%         | 32.40%           |\n",
        "| **Deer**         | (3, 3)         | 0.10%        | 0.00%   | 0.88%         | 17.42%           |\n",
        "|                  | (5, 5)         | 0.02%        | 0.01%   | 0.30%         | 15.32%           |\n",
        "|                  | (7, 7)         | 0.03%        | 0.11%   | 0.14%         | 18.18%           |\n",
        "|                  | (16, 16)       | 0.00%        | 0.00%   | 0.00%         | 2.49%            |\n",
        "| **Dog**          | (3, 3)         | 2.27%        | 0.15%   | 16.49%        | 4.43%            |\n",
        "|                  | (5, 5)         | 0.95%        | 0.35%   | 13.43%        | 5.94%            |\n",
        "|                  | (7, 7)         | 7.88%        | 6.04%   | 13.15%        | 3.39%            |\n",
        "|                  | (16, 16)       | 27.98%       | 1.44%   | 0.18%         | 10.07%           |\n",
        "| **Frog**         | (3, 3)         | 0.78%        | 0.01%   | 1.81%         | 1.57%            |\n",
        "|                  | (5, 5)         | 0.23%        | 0.00%   | 0.44%         | 1.88%            |\n",
        "|                  | (7, 7)         | 0.40%        | 0.03%   | 0.22%         | 3.77%            |\n",
        "|                  | (16, 16)       | 0.00%        | 0.06%   | 0.00%         | 0.25%            |\n",
        "\n",
        "---\n"
      ],
      "metadata": {
        "id": "JyxGGVZLvChY"
      }
    },
    {
      "cell_type": "markdown",
      "source": [
        "---\n",
        "\n",
        "| **Target Class** | **Patch Size** | **ResNet** | **DenseNet** | **VGG** | **MobileNet** | **EfficientNet** |\n",
        "|------------------|----------------|------------|--------------|---------|---------------|------------------|\n",
        "| **Cat**          | (3, 3)         | 3.66%      | 8.84%        | 0.94%   | 3.98%         | 16.15%           |\n",
        "|                  | (5, 5)         | 0.89%      | 4.27%        | 0.52%   | 0.79%         | 12.28%           |\n",
        "|                  | (7, 7)         | 1.02%      | 3.64%        | 0.58%   | 0.49%         | 12.57%           |\n",
        "|                  | (16, 16)       | 23.62%     | 0.11%        | 0.01%   | 0.00%         | 32.40%           |\n",
        "| **Deer**         | (3, 3)         | 0.05%      | 0.10%        | 0.00%   | 0.88%         | 17.42%           |\n",
        "|                  | (5, 5)         | 0.01%      | 0.02%        | 0.01%   | 0.30%         | 15.32%           |\n",
        "|                  | (7, 7)         | 0.03%      | 0.03%        | 0.11%   | 0.14%         | 18.18%           |\n",
        "|                  | (16, 16)       | 0.00%      | 0.00%        | 0.00%   | 0.00%         | 2.49%            |\n",
        "| **Dog**          | (3, 3)         | 5.05%      | 2.27%        | 0.15%   | 16.49%        | 4.43%            |\n",
        "|                  | (5, 5)         | 2.38%      | 0.95%        | 0.35%   | 13.43%        | 5.94%            |\n",
        "|                  | (7, 7)         | 25.38%     | 7.88%        | 6.04%   | 13.15%        | 3.39%            |\n",
        "|                  | (16, 16)       | 1.97%      | 27.98%       | 1.44%   | 0.18%         | 10.07%           |\n",
        "| **Frog**         | (3, 3)         | 0.24%      | 0.78%        | 0.01%   | 1.81%         | 1.57%            |\n",
        "|                  | (5, 5)         | 0.07%      | 0.23%        | 0.00%   | 0.44%         | 1.88%            |\n",
        "|                  | (7, 7)         | 0.08%      | 0.40%        | 0.03%   | 0.22%         | 3.77%            |\n",
        "|                  | (16, 16)       | 0.00%      | 0.00%        | 0.06%   | 0.00%         | 0.25%            |\n",
        "\n",
        "---"
      ],
      "metadata": {
        "id": "Gxe-8QlDu_JC"
      }
    },
    {
      "cell_type": "code",
      "source": [
        "import torch\n",
        "import torch.nn as nn\n",
        "import torch.optim as optim\n",
        "import torchvision\n",
        "import torchvision.transforms as transforms\n",
        "\n",
        "# Set up GPU\n",
        "device = torch.device(\"cuda\" if torch.cuda.is_available() else \"cpu\")\n",
        "\n",
        "# Load and preprocess the CIFAR-10 dataset\n",
        "transform = transforms.Compose([\n",
        "    transforms.RandomHorizontalFlip(),\n",
        "    transforms.RandomCrop(32, padding=4),\n",
        "    transforms.ToTensor(),\n",
        "    transforms.Normalize((0.5, 0.5, 0.5), (0.5, 0.5, 0.5))\n",
        "])\n",
        "\n",
        "trainset = torchvision.datasets.CIFAR10(root='./data', train=True, download=True, transform=transform)\n",
        "trainloader = torch.utils.data.DataLoader(trainset, batch_size=128, shuffle=True, num_workers=2)\n",
        "\n",
        "testset = torchvision.datasets.CIFAR10(root='./data', train=False, download=True, transform=transform)\n",
        "testloader = torch.utils.data.DataLoader(testset, batch_size=100, shuffle=False, num_workers=2)"
      ],
      "metadata": {
        "colab": {
          "base_uri": "https://localhost:8080/"
        },
        "id": "ke-URZBaxrRm",
        "outputId": "23850c0b-2acb-41f2-87c3-f180002bf79f"
      },
      "execution_count": 3,
      "outputs": [
        {
          "output_type": "stream",
          "name": "stdout",
          "text": [
            "Files already downloaded and verified\n",
            "Files already downloaded and verified\n"
          ]
        }
      ]
    },
    {
      "cell_type": "code",
      "source": [
        "import torch\n",
        "from torchvision import models\n",
        "from torchvision.models import efficientnet_b0\n",
        "import torch.nn as nn\n",
        "# Define the model (same architecture as when you saved it)\n",
        "num_classes = 10\n",
        "\n",
        "#load resnet\n",
        "resnet = models.resnet18(pretrained=False)\n",
        "resnet.fc = nn.Linear(resnet.fc.in_features, num_classes)\n",
        "resnet.load_state_dict(torch.load(\"cifar_resnet18_pretrained.pth\"))\n",
        "resnet = resnet.to(device)\n",
        "\n",
        "#load densenet\n",
        "densenet = models.densenet121(pretrained=False)  # Don't load the pre-trained weights initially\n",
        "densenet.classifier = nn.Linear(densenet.classifier.in_features, num_classes)\n",
        "densenet.load_state_dict(torch.load(\"cifar_densenet_pretrained.pth\"))\n",
        "densenet = densenet.to(device)\n",
        "\n",
        "#load vgg\n",
        "vgg = models.vgg16(pretrained=False)\n",
        "vgg.classifier[6] = nn.Linear(vgg.classifier[6].in_features, num_classes)\n",
        "vgg.load_state_dict(torch.load(\"cifar_vgg_pretrained.pth\"))\n",
        "vgg = vgg.to(device)\n",
        "\n",
        "#load mobilenet\n",
        "mobilenet = models.mobilenet_v2(pretrained=False)\n",
        "mobilenet.classifier[1] = nn.Linear(mobilenet.classifier[1].in_features, num_classes)\n",
        "mobilenet.load_state_dict(torch.load(\"cifar_mobilenet_pretrained.pth\"))\n",
        "mobilenet = mobilenet.to(device)\n",
        "\n",
        "#load efficientnet\n",
        "efficientnet = efficientnet_b0(pretrained=False)\n",
        "efficientnet.classifier[1] = nn.Linear(efficientnet.classifier[1].in_features, num_classes)\n",
        "efficientnet.load_state_dict(torch.load(\"cifar_efficientnet_pretrained.pth\"))\n",
        "efficientnet = efficientnet.to(device)"
      ],
      "metadata": {
        "colab": {
          "base_uri": "https://localhost:8080/"
        },
        "id": "3FC1iKXko0Jl",
        "outputId": "27099fe6-2f2d-4716-a191-8153eef79f6e"
      },
      "execution_count": 4,
      "outputs": [
        {
          "output_type": "stream",
          "name": "stderr",
          "text": [
            "/usr/local/lib/python3.10/dist-packages/torchvision/models/_utils.py:208: UserWarning: The parameter 'pretrained' is deprecated since 0.13 and may be removed in the future, please use 'weights' instead.\n",
            "  warnings.warn(\n",
            "/usr/local/lib/python3.10/dist-packages/torchvision/models/_utils.py:223: UserWarning: Arguments other than a weight enum or `None` for 'weights' are deprecated since 0.13 and may be removed in the future. The current behavior is equivalent to passing `weights=None`.\n",
            "  warnings.warn(msg)\n",
            "<ipython-input-4-7363661e5dc5>:11: FutureWarning: You are using `torch.load` with `weights_only=False` (the current default value), which uses the default pickle module implicitly. It is possible to construct malicious pickle data which will execute arbitrary code during unpickling (See https://github.com/pytorch/pytorch/blob/main/SECURITY.md#untrusted-models for more details). In a future release, the default value for `weights_only` will be flipped to `True`. This limits the functions that could be executed during unpickling. Arbitrary objects will no longer be allowed to be loaded via this mode unless they are explicitly allowlisted by the user via `torch.serialization.add_safe_globals`. We recommend you start setting `weights_only=True` for any use case where you don't have full control of the loaded file. Please open an issue on GitHub for any issues related to this experimental feature.\n",
            "  resnet.load_state_dict(torch.load(\"cifar_resnet18_pretrained.pth\"))\n",
            "<ipython-input-4-7363661e5dc5>:17: FutureWarning: You are using `torch.load` with `weights_only=False` (the current default value), which uses the default pickle module implicitly. It is possible to construct malicious pickle data which will execute arbitrary code during unpickling (See https://github.com/pytorch/pytorch/blob/main/SECURITY.md#untrusted-models for more details). In a future release, the default value for `weights_only` will be flipped to `True`. This limits the functions that could be executed during unpickling. Arbitrary objects will no longer be allowed to be loaded via this mode unless they are explicitly allowlisted by the user via `torch.serialization.add_safe_globals`. We recommend you start setting `weights_only=True` for any use case where you don't have full control of the loaded file. Please open an issue on GitHub for any issues related to this experimental feature.\n",
            "  densenet.load_state_dict(torch.load(\"cifar_densenet_pretrained.pth\"))\n",
            "<ipython-input-4-7363661e5dc5>:23: FutureWarning: You are using `torch.load` with `weights_only=False` (the current default value), which uses the default pickle module implicitly. It is possible to construct malicious pickle data which will execute arbitrary code during unpickling (See https://github.com/pytorch/pytorch/blob/main/SECURITY.md#untrusted-models for more details). In a future release, the default value for `weights_only` will be flipped to `True`. This limits the functions that could be executed during unpickling. Arbitrary objects will no longer be allowed to be loaded via this mode unless they are explicitly allowlisted by the user via `torch.serialization.add_safe_globals`. We recommend you start setting `weights_only=True` for any use case where you don't have full control of the loaded file. Please open an issue on GitHub for any issues related to this experimental feature.\n",
            "  vgg.load_state_dict(torch.load(\"cifar_vgg_pretrained.pth\"))\n",
            "<ipython-input-4-7363661e5dc5>:29: FutureWarning: You are using `torch.load` with `weights_only=False` (the current default value), which uses the default pickle module implicitly. It is possible to construct malicious pickle data which will execute arbitrary code during unpickling (See https://github.com/pytorch/pytorch/blob/main/SECURITY.md#untrusted-models for more details). In a future release, the default value for `weights_only` will be flipped to `True`. This limits the functions that could be executed during unpickling. Arbitrary objects will no longer be allowed to be loaded via this mode unless they are explicitly allowlisted by the user via `torch.serialization.add_safe_globals`. We recommend you start setting `weights_only=True` for any use case where you don't have full control of the loaded file. Please open an issue on GitHub for any issues related to this experimental feature.\n",
            "  mobilenet.load_state_dict(torch.load(\"cifar_mobilenet_pretrained.pth\"))\n",
            "<ipython-input-4-7363661e5dc5>:35: FutureWarning: You are using `torch.load` with `weights_only=False` (the current default value), which uses the default pickle module implicitly. It is possible to construct malicious pickle data which will execute arbitrary code during unpickling (See https://github.com/pytorch/pytorch/blob/main/SECURITY.md#untrusted-models for more details). In a future release, the default value for `weights_only` will be flipped to `True`. This limits the functions that could be executed during unpickling. Arbitrary objects will no longer be allowed to be loaded via this mode unless they are explicitly allowlisted by the user via `torch.serialization.add_safe_globals`. We recommend you start setting `weights_only=True` for any use case where you don't have full control of the loaded file. Please open an issue on GitHub for any issues related to this experimental feature.\n",
            "  efficientnet.load_state_dict(torch.load(\"cifar_efficientnet_pretrained.pth\"))\n"
          ]
        }
      ]
    },
    {
      "cell_type": "code",
      "source": [
        "transfer_models = {\n",
        "    \"resnet\": resnet,\n",
        "    \"densenet\": densenet,\n",
        "    \"vgg\": vgg,\n",
        "    \"mobilenet\": mobilenet,\n",
        "    \"efficientnet\": efficientnet,\n",
        "}"
      ],
      "metadata": {
        "id": "I3Bgrd10ot3p"
      },
      "execution_count": 5,
      "outputs": []
    },
    {
      "cell_type": "code",
      "source": [
        "def place_patch(img, patch):\n",
        "    patch = patch.to(img.device)\n",
        "    patched_img = img.clone()\n",
        "    batch_size, _, h, w = patched_img.size()\n",
        "    ph, pw = patch.size(1), patch.size(2)\n",
        "    for i in range(batch_size):\n",
        "        x_offset = torch.randint(0, h - ph + 1, (1,)).item()\n",
        "        y_offset = torch.randint(0, w - pw + 1, (1,)).item()\n",
        "        patched_img[i, :, x_offset : x_offset + ph, y_offset : y_offset + pw] = patch\n",
        "    return patched_img\n",
        "\n",
        "def evaluate_patch(model, patch, dataloader, target_class=None):\n",
        "    model.eval()\n",
        "    correct = 0\n",
        "    total = 0\n",
        "    with torch.no_grad():\n",
        "        for images, labels in dataloader:\n",
        "            images, labels = images.to(device), labels.to(device)\n",
        "            patched_images = place_patch(images, patch)\n",
        "            outputs = model(patched_images)\n",
        "            _, predicted = outputs.max(1)\n",
        "            if target_class is not None:\n",
        "                correct += (predicted == target_class).sum().item()\n",
        "            else:\n",
        "                correct += (\n",
        "                    (predicted != labels).sum().item()\n",
        "                )  # Evaluate untargeted attack\n",
        "            total += labels.size(0)\n",
        "\n",
        "    accuracy = 100 * correct / total\n",
        "\n",
        "    if target_class is not None:\n",
        "        print(f\"Targeted Attack Success Rate (Class {target_class}): {accuracy:.2f}%\")\n",
        "    else:\n",
        "        print(f\"Untargeted Attack Success Rate: {accuracy:.2f}%\")"
      ],
      "metadata": {
        "id": "rhdPDc7Qoybs"
      },
      "execution_count": 6,
      "outputs": []
    },
    {
      "cell_type": "code",
      "source": [
        "target_classes = [3,4,5,6]"
      ],
      "metadata": {
        "id": "F4PsYwQCo9He"
      },
      "execution_count": 7,
      "outputs": []
    },
    {
      "cell_type": "code",
      "source": [
        "class_names = {\n",
        "    0: \"airplane\",\n",
        "    1: \"automobile\",\n",
        "    2: \"bird\",\n",
        "    3: \"cat\",\n",
        "    4: \"deer\",\n",
        "    5: \"dog\",\n",
        "    6: \"frog\",\n",
        "    7: \"horse\",\n",
        "    8: \"ship\",\n",
        "    9: \"truck\",\n",
        "}"
      ],
      "metadata": {
        "id": "KPvxqT-_pAEO"
      },
      "execution_count": 8,
      "outputs": []
    },
    {
      "cell_type": "code",
      "source": [
        "for target_class in target_classes:\n",
        "    print(f\"Target Class: {class_names[target_class]}\")\n",
        "\n",
        "    for patch_size in [(3, 3), (5, 5), (7, 7), (16, 16)]:\n",
        "        print(f\"Patch Size: {patch_size}\")\n",
        "\n",
        "        for model_name, model in transfer_models.items():\n",
        "            print(f\"Transfer to Model: {model_name}\")\n",
        "\n",
        "            patch_filename = f\"adversarial_patch_{patch_size[0]}x{patch_size[1]}_target_{target_class}.pth\"\n",
        "\n",
        "            patch = torch.load(patch_filename).to(device)\n",
        "\n",
        "            evaluate_patch(model, patch, testloader, target_class=target_class)"
      ],
      "metadata": {
        "colab": {
          "base_uri": "https://localhost:8080/"
        },
        "id": "FrXE4rCfpG0l",
        "outputId": "80af3b0b-523b-4f89-9f32-6f5c874aaeb1"
      },
      "execution_count": 9,
      "outputs": [
        {
          "output_type": "stream",
          "name": "stdout",
          "text": [
            "Target Class: cat\n",
            "Patch Size: (3, 3)\n",
            "Transfer to Model: resnet\n"
          ]
        },
        {
          "output_type": "stream",
          "name": "stderr",
          "text": [
            "<ipython-input-9-9bf37d743c90>:12: FutureWarning: You are using `torch.load` with `weights_only=False` (the current default value), which uses the default pickle module implicitly. It is possible to construct malicious pickle data which will execute arbitrary code during unpickling (See https://github.com/pytorch/pytorch/blob/main/SECURITY.md#untrusted-models for more details). In a future release, the default value for `weights_only` will be flipped to `True`. This limits the functions that could be executed during unpickling. Arbitrary objects will no longer be allowed to be loaded via this mode unless they are explicitly allowlisted by the user via `torch.serialization.add_safe_globals`. We recommend you start setting `weights_only=True` for any use case where you don't have full control of the loaded file. Please open an issue on GitHub for any issues related to this experimental feature.\n",
            "  patch = torch.load(patch_filename).to(device)\n"
          ]
        },
        {
          "output_type": "stream",
          "name": "stdout",
          "text": [
            "Targeted Attack Success Rate (Class 3): 3.66%\n",
            "Transfer to Model: densenet\n",
            "Targeted Attack Success Rate (Class 3): 8.84%\n",
            "Transfer to Model: vgg\n",
            "Targeted Attack Success Rate (Class 3): 0.94%\n",
            "Transfer to Model: mobilenet\n",
            "Targeted Attack Success Rate (Class 3): 3.98%\n",
            "Transfer to Model: efficientnet\n",
            "Targeted Attack Success Rate (Class 3): 16.15%\n",
            "Patch Size: (5, 5)\n",
            "Transfer to Model: resnet\n",
            "Targeted Attack Success Rate (Class 3): 0.89%\n",
            "Transfer to Model: densenet\n",
            "Targeted Attack Success Rate (Class 3): 4.27%\n",
            "Transfer to Model: vgg\n",
            "Targeted Attack Success Rate (Class 3): 0.52%\n",
            "Transfer to Model: mobilenet\n",
            "Targeted Attack Success Rate (Class 3): 0.79%\n",
            "Transfer to Model: efficientnet\n",
            "Targeted Attack Success Rate (Class 3): 12.28%\n",
            "Patch Size: (7, 7)\n",
            "Transfer to Model: resnet\n",
            "Targeted Attack Success Rate (Class 3): 1.02%\n",
            "Transfer to Model: densenet\n",
            "Targeted Attack Success Rate (Class 3): 3.64%\n",
            "Transfer to Model: vgg\n",
            "Targeted Attack Success Rate (Class 3): 0.58%\n",
            "Transfer to Model: mobilenet\n",
            "Targeted Attack Success Rate (Class 3): 0.49%\n",
            "Transfer to Model: efficientnet\n",
            "Targeted Attack Success Rate (Class 3): 12.57%\n",
            "Patch Size: (16, 16)\n",
            "Transfer to Model: resnet\n",
            "Targeted Attack Success Rate (Class 3): 23.62%\n",
            "Transfer to Model: densenet\n",
            "Targeted Attack Success Rate (Class 3): 0.11%\n",
            "Transfer to Model: vgg\n",
            "Targeted Attack Success Rate (Class 3): 0.01%\n",
            "Transfer to Model: mobilenet\n",
            "Targeted Attack Success Rate (Class 3): 0.00%\n",
            "Transfer to Model: efficientnet\n",
            "Targeted Attack Success Rate (Class 3): 32.40%\n",
            "Target Class: deer\n",
            "Patch Size: (3, 3)\n",
            "Transfer to Model: resnet\n",
            "Targeted Attack Success Rate (Class 4): 0.05%\n",
            "Transfer to Model: densenet\n",
            "Targeted Attack Success Rate (Class 4): 0.10%\n",
            "Transfer to Model: vgg\n",
            "Targeted Attack Success Rate (Class 4): 0.00%\n",
            "Transfer to Model: mobilenet\n",
            "Targeted Attack Success Rate (Class 4): 0.88%\n",
            "Transfer to Model: efficientnet\n",
            "Targeted Attack Success Rate (Class 4): 17.42%\n",
            "Patch Size: (5, 5)\n",
            "Transfer to Model: resnet\n",
            "Targeted Attack Success Rate (Class 4): 0.01%\n",
            "Transfer to Model: densenet\n",
            "Targeted Attack Success Rate (Class 4): 0.02%\n",
            "Transfer to Model: vgg\n",
            "Targeted Attack Success Rate (Class 4): 0.01%\n",
            "Transfer to Model: mobilenet\n",
            "Targeted Attack Success Rate (Class 4): 0.30%\n",
            "Transfer to Model: efficientnet\n",
            "Targeted Attack Success Rate (Class 4): 15.32%\n",
            "Patch Size: (7, 7)\n",
            "Transfer to Model: resnet\n",
            "Targeted Attack Success Rate (Class 4): 0.03%\n",
            "Transfer to Model: densenet\n",
            "Targeted Attack Success Rate (Class 4): 0.03%\n",
            "Transfer to Model: vgg\n",
            "Targeted Attack Success Rate (Class 4): 0.11%\n",
            "Transfer to Model: mobilenet\n",
            "Targeted Attack Success Rate (Class 4): 0.14%\n",
            "Transfer to Model: efficientnet\n",
            "Targeted Attack Success Rate (Class 4): 18.18%\n",
            "Patch Size: (16, 16)\n",
            "Transfer to Model: resnet\n",
            "Targeted Attack Success Rate (Class 4): 0.00%\n",
            "Transfer to Model: densenet\n",
            "Targeted Attack Success Rate (Class 4): 0.00%\n",
            "Transfer to Model: vgg\n",
            "Targeted Attack Success Rate (Class 4): 0.00%\n",
            "Transfer to Model: mobilenet\n",
            "Targeted Attack Success Rate (Class 4): 0.00%\n",
            "Transfer to Model: efficientnet\n",
            "Targeted Attack Success Rate (Class 4): 2.49%\n",
            "Target Class: dog\n",
            "Patch Size: (3, 3)\n",
            "Transfer to Model: resnet\n",
            "Targeted Attack Success Rate (Class 5): 5.05%\n",
            "Transfer to Model: densenet\n",
            "Targeted Attack Success Rate (Class 5): 2.27%\n",
            "Transfer to Model: vgg\n",
            "Targeted Attack Success Rate (Class 5): 0.15%\n",
            "Transfer to Model: mobilenet\n",
            "Targeted Attack Success Rate (Class 5): 16.49%\n",
            "Transfer to Model: efficientnet\n",
            "Targeted Attack Success Rate (Class 5): 4.43%\n",
            "Patch Size: (5, 5)\n",
            "Transfer to Model: resnet\n",
            "Targeted Attack Success Rate (Class 5): 2.38%\n",
            "Transfer to Model: densenet\n",
            "Targeted Attack Success Rate (Class 5): 0.95%\n",
            "Transfer to Model: vgg\n",
            "Targeted Attack Success Rate (Class 5): 0.35%\n",
            "Transfer to Model: mobilenet\n",
            "Targeted Attack Success Rate (Class 5): 13.43%\n",
            "Transfer to Model: efficientnet\n",
            "Targeted Attack Success Rate (Class 5): 5.94%\n",
            "Patch Size: (7, 7)\n",
            "Transfer to Model: resnet\n",
            "Targeted Attack Success Rate (Class 5): 25.38%\n",
            "Transfer to Model: densenet\n",
            "Targeted Attack Success Rate (Class 5): 7.88%\n",
            "Transfer to Model: vgg\n",
            "Targeted Attack Success Rate (Class 5): 6.04%\n",
            "Transfer to Model: mobilenet\n",
            "Targeted Attack Success Rate (Class 5): 13.15%\n",
            "Transfer to Model: efficientnet\n",
            "Targeted Attack Success Rate (Class 5): 3.39%\n",
            "Patch Size: (16, 16)\n",
            "Transfer to Model: resnet\n",
            "Targeted Attack Success Rate (Class 5): 1.97%\n",
            "Transfer to Model: densenet\n",
            "Targeted Attack Success Rate (Class 5): 27.98%\n",
            "Transfer to Model: vgg\n",
            "Targeted Attack Success Rate (Class 5): 1.44%\n",
            "Transfer to Model: mobilenet\n",
            "Targeted Attack Success Rate (Class 5): 0.18%\n",
            "Transfer to Model: efficientnet\n",
            "Targeted Attack Success Rate (Class 5): 10.07%\n",
            "Target Class: frog\n",
            "Patch Size: (3, 3)\n",
            "Transfer to Model: resnet\n",
            "Targeted Attack Success Rate (Class 6): 0.24%\n",
            "Transfer to Model: densenet\n",
            "Targeted Attack Success Rate (Class 6): 0.78%\n",
            "Transfer to Model: vgg\n",
            "Targeted Attack Success Rate (Class 6): 0.01%\n",
            "Transfer to Model: mobilenet\n",
            "Targeted Attack Success Rate (Class 6): 1.81%\n",
            "Transfer to Model: efficientnet\n",
            "Targeted Attack Success Rate (Class 6): 1.57%\n",
            "Patch Size: (5, 5)\n",
            "Transfer to Model: resnet\n",
            "Targeted Attack Success Rate (Class 6): 0.07%\n",
            "Transfer to Model: densenet\n",
            "Targeted Attack Success Rate (Class 6): 0.23%\n",
            "Transfer to Model: vgg\n",
            "Targeted Attack Success Rate (Class 6): 0.00%\n",
            "Transfer to Model: mobilenet\n",
            "Targeted Attack Success Rate (Class 6): 0.44%\n",
            "Transfer to Model: efficientnet\n",
            "Targeted Attack Success Rate (Class 6): 1.88%\n",
            "Patch Size: (7, 7)\n",
            "Transfer to Model: resnet\n",
            "Targeted Attack Success Rate (Class 6): 0.08%\n",
            "Transfer to Model: densenet\n",
            "Targeted Attack Success Rate (Class 6): 0.40%\n",
            "Transfer to Model: vgg\n",
            "Targeted Attack Success Rate (Class 6): 0.03%\n",
            "Transfer to Model: mobilenet\n",
            "Targeted Attack Success Rate (Class 6): 0.22%\n",
            "Transfer to Model: efficientnet\n",
            "Targeted Attack Success Rate (Class 6): 3.77%\n",
            "Patch Size: (16, 16)\n",
            "Transfer to Model: resnet\n",
            "Targeted Attack Success Rate (Class 6): 0.00%\n",
            "Transfer to Model: densenet\n",
            "Targeted Attack Success Rate (Class 6): 0.00%\n",
            "Transfer to Model: vgg\n",
            "Targeted Attack Success Rate (Class 6): 0.06%\n",
            "Transfer to Model: mobilenet\n",
            "Targeted Attack Success Rate (Class 6): 0.00%\n",
            "Transfer to Model: efficientnet\n",
            "Targeted Attack Success Rate (Class 6): 0.25%\n"
          ]
        }
      ]
    },
    {
      "cell_type": "code",
      "source": [
        "import torch\n",
        "import torch.nn.functional as F\n",
        "import numpy as np\n",
        "from tqdm import tqdm\n",
        "\n",
        "# Define CIFAR-10 class names\n",
        "classes = ['plane', 'car', 'bird', 'cat', 'deer', 'dog', 'frog', 'horse', 'ship', 'truck']\n",
        "\n",
        "class AdversarialAttackEvaluator:\n",
        "    def __init__(self, model, device):\n",
        "        self.model = model\n",
        "        self.device = device\n",
        "\n",
        "    def place_patch(self, img, patch, placement_strategy='random'):\n",
        "        \"\"\"\n",
        "        Place patch on images with different placement strategies\n",
        "\n",
        "        Args:\n",
        "            img (torch.Tensor): Original images\n",
        "            patch (torch.Tensor): Adversarial patch\n",
        "            placement_strategy (str): Patch placement method ('random' or 'center')\n",
        "\n",
        "        Returns:\n",
        "            torch.Tensor: Images with applied patch\n",
        "        \"\"\"\n",
        "        batch_size, _, h, w = img.size()\n",
        "        ph, pw = patch.size(1), patch.size(2)\n",
        "\n",
        "        if placement_strategy == 'random':\n",
        "            # Random placement\n",
        "            top = torch.randint(0, h - ph, (batch_size,)).to(self.device)\n",
        "            left = torch.randint(0, w - pw, (batch_size,)).to(self.device)\n",
        "\n",
        "            for i in range(batch_size):\n",
        "                img[i, :, top[i]:top[i]+ph, left[i]:left[i]+pw] = patch\n",
        "        elif placement_strategy == 'center':\n",
        "            # Center placement\n",
        "            top = (h - ph) // 2\n",
        "            left = (w - pw) // 2\n",
        "            img[:, :, top:top+ph, left:left+pw] = patch\n",
        "\n",
        "        return img\n",
        "\n",
        "    def evaluate_attack(self, dataloader, patch, target_class_idx):\n",
        "        \"\"\"\n",
        "        Evaluate attack success for the given patch\n",
        "\n",
        "        Args:\n",
        "            dataloader (torch.utils.data.DataLoader): Test data loader\n",
        "            patch (torch.Tensor): The adversarial patch\n",
        "            target_class_idx (int): Target class index for attack (e.g., 'cat' class)\n",
        "\n",
        "        Returns:\n",
        "            float: Attack success rate\n",
        "        \"\"\"\n",
        "        self.model.eval()\n",
        "        correct = 0\n",
        "        total = 0\n",
        "\n",
        "        # Evaluate with different placement strategies\n",
        "        placement_strategies = ['random', 'center']\n",
        "        strategy_success_rates = []\n",
        "\n",
        "        for strategy in placement_strategies:\n",
        "            temp_correct = 0\n",
        "            temp_total = 0\n",
        "\n",
        "            with torch.no_grad():\n",
        "                for images, labels in tqdm(dataloader):\n",
        "                    images, labels = images.to(self.device), labels.to(self.device)\n",
        "                    patched_images = self.place_patch(images.clone(), patch, strategy)\n",
        "\n",
        "                    outputs = self.model(patched_images)\n",
        "                    _, predicted = outputs.max(1)\n",
        "\n",
        "                    # Calculate success for targeted attack\n",
        "                    temp_correct += (predicted == target_class_idx).sum().item()\n",
        "                    temp_total += labels.size(0)\n",
        "\n",
        "            strategy_success_rate = 100 * temp_correct / temp_total\n",
        "            strategy_success_rates.append(strategy_success_rate)\n",
        "            print(f\"Attack Success Rate ({strategy} placement): {strategy_success_rate:.2f}%\")\n",
        "\n",
        "        # Average success rate across strategies\n",
        "        avg_success_rate = np.mean(strategy_success_rates)\n",
        "        print(f\"Average Attack Success Rate: {avg_success_rate:.2f}%\")\n",
        "        return avg_success_rate\n",
        "\n",
        "# Load adversarial patch\n",
        "patch = torch.load('adversarial_patch_cat_1.pth')  # Ensure this patch is of size 5x5\n",
        "patch.requires_grad = False  # No gradient needed for evaluation\n",
        "\n",
        "# Define target class index for 'cat'\n",
        "target_class_idx = classes.index('cat')\n",
        "\n",
        "#print\n",
        "print(\"Attack on Resnet with target class cat\")\n",
        "# Create evaluator for ResNet\n",
        "resnet_evaluator = AdversarialAttackEvaluator(resnet, device)\n",
        "\n",
        "# Evaluate attack on ResNet\n",
        "resnet_success_rate = resnet_evaluator.evaluate_attack(testloader, patch, target_class_idx)\n",
        "\n",
        "#vgg\n",
        "print(\"Attack on VGG with target class cat\")\n",
        "vgg_evaluator = AdversarialAttackEvaluator(vgg, device)\n",
        "vgg_success_rate = vgg_evaluator.evaluate_attack(testloader, patch, target_class_idx)\n",
        "\n",
        "#densenet\n",
        "print(\"Attack on Densenet with target class cat\")\n",
        "densenet_evaluator = AdversarialAttackEvaluator(densenet, device)\n",
        "densenet_success_rate = densenet_evaluator.evaluate_attack(testloader, patch, target_class_idx)\n",
        "\n",
        "#mobilenet\n",
        "print(\"Attack on Mobilenet with target class cat\")\n",
        "mobilenet_evaluator = AdversarialAttackEvaluator(mobilenet, device)\n",
        "mobilenet_success_rate = mobilenet_evaluator.evaluate_attack(testloader, patch, target_class_idx)\n",
        "\n",
        "#efficientnet\n",
        "print(\"Attack on Efficientnet with target class cat\")\n",
        "efficientnet_evaluator = AdversarialAttackEvaluator(efficientnet, device)\n",
        "efficientnet_success_rate = efficientnet_evaluator.evaluate_attack(testloader, patch, target_class_idx)"
      ],
      "metadata": {
        "colab": {
          "base_uri": "https://localhost:8080/"
        },
        "id": "tONif82qptTx",
        "outputId": "0f47d5b8-e9bb-4b29-922b-30a8f124d25c"
      },
      "execution_count": null,
      "outputs": [
        {
          "output_type": "stream",
          "name": "stderr",
          "text": [
            "<ipython-input-8-2ef393481551>:90: FutureWarning: You are using `torch.load` with `weights_only=False` (the current default value), which uses the default pickle module implicitly. It is possible to construct malicious pickle data which will execute arbitrary code during unpickling (See https://github.com/pytorch/pytorch/blob/main/SECURITY.md#untrusted-models for more details). In a future release, the default value for `weights_only` will be flipped to `True`. This limits the functions that could be executed during unpickling. Arbitrary objects will no longer be allowed to be loaded via this mode unless they are explicitly allowlisted by the user via `torch.serialization.add_safe_globals`. We recommend you start setting `weights_only=True` for any use case where you don't have full control of the loaded file. Please open an issue on GitHub for any issues related to this experimental feature.\n",
            "  patch = torch.load('adversarial_patch_cat_1.pth')  # Ensure this patch is of size 5x5\n"
          ]
        },
        {
          "output_type": "stream",
          "name": "stdout",
          "text": [
            "Attack on Resnet with target class cat\n"
          ]
        },
        {
          "output_type": "stream",
          "name": "stderr",
          "text": [
            "100%|██████████| 100/100 [00:07<00:00, 13.63it/s]\n"
          ]
        },
        {
          "output_type": "stream",
          "name": "stdout",
          "text": [
            "Attack Success Rate (random placement): 0.16%\n"
          ]
        },
        {
          "output_type": "stream",
          "name": "stderr",
          "text": [
            "100%|██████████| 100/100 [00:03<00:00, 26.52it/s]\n"
          ]
        },
        {
          "output_type": "stream",
          "name": "stdout",
          "text": [
            "Attack Success Rate (center placement): 0.00%\n",
            "Average Attack Success Rate: 0.08%\n",
            "Attack on VGG with target class cat\n"
          ]
        },
        {
          "output_type": "stream",
          "name": "stderr",
          "text": [
            "100%|██████████| 100/100 [00:06<00:00, 15.66it/s]\n"
          ]
        },
        {
          "output_type": "stream",
          "name": "stdout",
          "text": [
            "Attack Success Rate (random placement): 0.00%\n"
          ]
        },
        {
          "output_type": "stream",
          "name": "stderr",
          "text": [
            "100%|██████████| 100/100 [00:04<00:00, 21.54it/s]\n"
          ]
        },
        {
          "output_type": "stream",
          "name": "stdout",
          "text": [
            "Attack Success Rate (center placement): 0.00%\n",
            "Average Attack Success Rate: 0.00%\n",
            "Attack on Densenet with target class cat\n"
          ]
        },
        {
          "output_type": "stream",
          "name": "stderr",
          "text": [
            "100%|██████████| 100/100 [00:06<00:00, 15.34it/s]\n"
          ]
        },
        {
          "output_type": "stream",
          "name": "stdout",
          "text": [
            "Attack Success Rate (random placement): 1.95%\n"
          ]
        },
        {
          "output_type": "stream",
          "name": "stderr",
          "text": [
            "100%|██████████| 100/100 [00:06<00:00, 14.45it/s]\n"
          ]
        },
        {
          "output_type": "stream",
          "name": "stdout",
          "text": [
            "Attack Success Rate (center placement): 0.00%\n",
            "Average Attack Success Rate: 0.97%\n",
            "Attack on Mobilenet with target class cat\n"
          ]
        },
        {
          "output_type": "stream",
          "name": "stderr",
          "text": [
            "100%|██████████| 100/100 [00:05<00:00, 18.54it/s]\n"
          ]
        },
        {
          "output_type": "stream",
          "name": "stdout",
          "text": [
            "Attack Success Rate (random placement): 0.36%\n"
          ]
        },
        {
          "output_type": "stream",
          "name": "stderr",
          "text": [
            "100%|██████████| 100/100 [00:05<00:00, 16.91it/s]\n"
          ]
        },
        {
          "output_type": "stream",
          "name": "stdout",
          "text": [
            "Attack Success Rate (center placement): 0.03%\n",
            "Average Attack Success Rate: 0.20%\n",
            "Attack on Efficientnet with target class cat\n"
          ]
        },
        {
          "output_type": "stream",
          "name": "stderr",
          "text": [
            "100%|██████████| 100/100 [00:06<00:00, 15.46it/s]\n"
          ]
        },
        {
          "output_type": "stream",
          "name": "stdout",
          "text": [
            "Attack Success Rate (random placement): 24.10%\n"
          ]
        },
        {
          "output_type": "stream",
          "name": "stderr",
          "text": [
            "100%|██████████| 100/100 [00:06<00:00, 16.56it/s]"
          ]
        },
        {
          "output_type": "stream",
          "name": "stdout",
          "text": [
            "Attack Success Rate (center placement): 41.53%\n",
            "Average Attack Success Rate: 32.81%\n"
          ]
        },
        {
          "output_type": "stream",
          "name": "stderr",
          "text": [
            "\n"
          ]
        }
      ]
    }
  ]
}