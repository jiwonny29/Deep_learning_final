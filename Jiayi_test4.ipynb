{
  "cells": [
    {
      "cell_type": "code",
      "source": [
        "from google.colab import drive\n",
        "drive.mount('/content/drive')"
      ],
      "metadata": {
        "colab": {
          "base_uri": "https://localhost:8080/"
        },
        "id": "qiBBUKRwpMyT",
        "outputId": "2e721e18-49d0-484f-ef78-3e6f7dab9ea5"
      },
      "execution_count": null,
      "outputs": [
        {
          "output_type": "stream",
          "name": "stdout",
          "text": [
            "Mounted at /content/drive\n"
          ]
        }
      ]
    },
    {
      "cell_type": "code",
      "source": [
        "%cd /content/drive/MyDrive/Colab\\ Notebooks/Deep_learning_final"
      ],
      "metadata": {
        "colab": {
          "base_uri": "https://localhost:8080/"
        },
        "id": "eS9Zt475pN_d",
        "outputId": "54787ee2-14d2-4531-d1b7-2b46a8b19e6e"
      },
      "execution_count": null,
      "outputs": [
        {
          "output_type": "stream",
          "name": "stdout",
          "text": [
            "/content/drive/MyDrive/Colab Notebooks/Deep_learning_final\n"
          ]
        }
      ]
    },
    {
      "cell_type": "code",
      "execution_count": null,
      "metadata": {
        "id": "PGOPgQETpLQC"
      },
      "outputs": [],
      "source": [
        "# data_loader.py\n",
        "import torch\n",
        "import torchvision\n",
        "import torchvision.transforms as transforms\n",
        "from torch.utils.data import DataLoader, random_split\n",
        "\n",
        "\n",
        "def load_cifar10(batch_size=32, num_workers=2, train_val_split=0.9):\n",
        "    \"\"\"\n",
        "    Load and prepare CIFAR-10 dataset with train/validation split\n",
        "\n",
        "    Args:\n",
        "        batch_size (int): Size of each batch\n",
        "        num_workers (int): Number of workers for data loading\n",
        "        train_val_split (float): Ratio of training data to total data\n",
        "\n",
        "    Returns:\n",
        "        tuple: (train_loader, val_loader, class_names)\n",
        "    \"\"\"\n",
        "    # CIFAR-10 normalization constants\n",
        "    NORM_MEAN = (0.4914, 0.4822, 0.4465)\n",
        "    NORM_STD = (0.2023, 0.1994, 0.2010)\n",
        "\n",
        "    # Define transforms\n",
        "    transform = transforms.Compose(\n",
        "        [transforms.ToTensor(), transforms.Normalize(NORM_MEAN, NORM_STD)]\n",
        "    )\n",
        "\n",
        "    # Load dataset\n",
        "    dataset = torchvision.datasets.CIFAR10(\n",
        "        root=\"./data\", train=True, download=True, transform=transform\n",
        "    )\n",
        "\n",
        "    # Split into train and validation sets\n",
        "    train_size = int(len(dataset) * train_val_split)\n",
        "    val_size = len(dataset) - train_size\n",
        "    train_set, val_set = random_split(dataset, [train_size, val_size])\n",
        "\n",
        "    # Create data loaders\n",
        "    train_loader = DataLoader(\n",
        "        train_set,\n",
        "        batch_size=batch_size,\n",
        "        shuffle=True,\n",
        "        num_workers=num_workers,\n",
        "        pin_memory=True,\n",
        "    )\n",
        "\n",
        "    val_loader = DataLoader(\n",
        "        val_set,\n",
        "        batch_size=batch_size,\n",
        "        shuffle=False,\n",
        "        num_workers=num_workers,\n",
        "        pin_memory=True,\n",
        "    )\n",
        "\n",
        "    return train_loader, val_loader, dataset.classes"
      ]
    },
    {
      "cell_type": "code",
      "execution_count": null,
      "metadata": {
        "id": "SykAKldRpLQD"
      },
      "outputs": [],
      "source": [
        "# model_loader.py\n",
        "import torch\n",
        "import torchvision.models as models\n",
        "\n",
        "\n",
        "def load_model(model_name=\"resnet18\", pretrained=True):\n",
        "    \"\"\"\n",
        "    Load and prepare the model for adversarial attack\n",
        "\n",
        "    Args:\n",
        "        model_name (str): Name of the model architecture\n",
        "        pretrained (bool): Whether to use pretrained weights\n",
        "\n",
        "    Returns:\n",
        "        torch.nn.Module: Prepared model\n",
        "    \"\"\"\n",
        "    device = torch.device(\"cuda\" if torch.cuda.is_available() else \"cpu\")\n",
        "\n",
        "    if model_name.lower() == \"resnet18\":\n",
        "        model = models.resnet18(pretrained=pretrained)\n",
        "    elif model_name.lower() == \"resnet50\":\n",
        "        model = models.resnet50(pretrained=pretrained)\n",
        "    else:\n",
        "        raise ValueError(f\"Unsupported model: {model_name}\")\n",
        "\n",
        "    model = model.to(device)\n",
        "    model.eval()  # Set to evaluation mode\n",
        "\n",
        "    return model, device"
      ]
    },
    {
      "cell_type": "code",
      "execution_count": null,
      "metadata": {
        "id": "ZmdkJWVRpLQE"
      },
      "outputs": [],
      "source": [
        "# patch_generator.py\n",
        "import torch\n",
        "import torch.nn as nn\n",
        "import torch.optim as optim\n",
        "from tqdm import tqdm\n",
        "import numpy as np\n",
        "\n",
        "\n",
        "class PatchGenerator:\n",
        "    def __init__(\n",
        "        self,\n",
        "        model,\n",
        "        device,\n",
        "        norm_mean=(0.4914, 0.4822, 0.4465),\n",
        "        norm_std=(0.2023, 0.1994, 0.2010),\n",
        "    ):\n",
        "        self.model = model\n",
        "        self.device = device\n",
        "        self.norm_mean = torch.FloatTensor(norm_mean)[:, None, None].to(device)\n",
        "        self.norm_std = torch.FloatTensor(norm_std)[:, None, None].to(device)\n",
        "\n",
        "    def _normalize_patch(self, patch):\n",
        "        \"\"\"Normalize patch values to match dataset normalization\"\"\"\n",
        "        return (torch.tanh(patch) + 1 - 2 * self.norm_mean) / (2 * self.norm_std)\n",
        "\n",
        "    def place_patch(self, images, patch, random_location=True):\n",
        "        \"\"\"Apply the adversarial patch to images\"\"\"\n",
        "        patched_images = images.clone()\n",
        "        patch_h, patch_w = patch.shape[-2:]\n",
        "\n",
        "        if random_location:\n",
        "            for i in range(images.shape[0]):\n",
        "                h_offset = np.random.randint(0, images.shape[2] - patch_h - 1)\n",
        "                w_offset = np.random.randint(0, images.shape[3] - patch_w - 1)\n",
        "                patched_images[\n",
        "                    i, :, h_offset : h_offset + patch_h, w_offset : w_offset + patch_w\n",
        "                ] = self._normalize_patch(patch)\n",
        "        else:\n",
        "            # Center the patch\n",
        "            h_offset = (images.shape[2] - patch_h) // 2\n",
        "            w_offset = (images.shape[3] - patch_w) // 2\n",
        "            patched_images[\n",
        "                :, :, h_offset : h_offset + patch_h, w_offset : w_offset + patch_w\n",
        "            ] = self._normalize_patch(patch)\n",
        "\n",
        "        return patched_images\n",
        "\n",
        "    def generate_patch(\n",
        "        self, target_class, patch_size, train_loader, num_epochs=5, lr=0.1, momentum=0.8\n",
        "    ):\n",
        "        \"\"\"Generate adversarial patch\"\"\"\n",
        "        if isinstance(patch_size, int):\n",
        "            patch_size = (patch_size, patch_size)\n",
        "\n",
        "        # Initialize patch\n",
        "        patch = nn.Parameter(\n",
        "            torch.zeros(3, patch_size[0], patch_size[1], device=self.device),\n",
        "            requires_grad=True,\n",
        "        )\n",
        "\n",
        "        optimizer = optim.SGD([patch], lr=lr, momentum=momentum)\n",
        "        scheduler = optim.lr_scheduler.CosineAnnealingLR(optimizer, T_max=num_epochs)\n",
        "        loss_fn = nn.CrossEntropyLoss()\n",
        "\n",
        "        for epoch in range(num_epochs):\n",
        "            epoch_loss = 0.0\n",
        "            pbar = tqdm(train_loader, desc=f\"Epoch {epoch+1}/{num_epochs}\")\n",
        "\n",
        "            for images, _ in pbar:\n",
        "                images = images.to(self.device)\n",
        "                target_labels = torch.full(\n",
        "                    (images.shape[0],),\n",
        "                    target_class,\n",
        "                    device=self.device,\n",
        "                    dtype=torch.long,\n",
        "                )\n",
        "\n",
        "                patched_images = self.place_patch(images, patch)\n",
        "                predictions = self.model(patched_images)\n",
        "\n",
        "                loss = loss_fn(predictions, target_labels)\n",
        "                optimizer.zero_grad()\n",
        "                loss.backward()\n",
        "                optimizer.step()\n",
        "\n",
        "                epoch_loss += loss.item()\n",
        "                pbar.set_postfix({\"loss\": f\"{loss.item():.4f}\"})\n",
        "\n",
        "            scheduler.step()\n",
        "            print(\n",
        "                f\"Epoch {epoch+1}/{num_epochs}, Average Loss: {epoch_loss/len(train_loader):.4f}\"\n",
        "            )\n",
        "\n",
        "        return patch.data"
      ]
    },
    {
      "cell_type": "code",
      "execution_count": null,
      "metadata": {
        "id": "Aj6EnyCwpLQE"
      },
      "outputs": [],
      "source": [
        "# patch_tester.py\n",
        "import torch\n",
        "import matplotlib.pyplot as plt\n",
        "from tqdm import tqdm\n",
        "import numpy as np\n",
        "\n",
        "\n",
        "class PatchTester:\n",
        "    def __init__(self, model, device, patch_generator):\n",
        "        self.model = model\n",
        "        self.device = device\n",
        "        self.patch_generator = patch_generator\n",
        "\n",
        "    @torch.no_grad()\n",
        "    def evaluate_patch(self, patch, val_loader, target_class, num_augmentations=4):\n",
        "        \"\"\"Evaluate patch effectiveness\"\"\"\n",
        "        total_success = 0\n",
        "        total_top5_success = 0\n",
        "        total_samples = 0\n",
        "\n",
        "        for images, labels in tqdm(val_loader, desc=\"Evaluating patch\"):\n",
        "            for _ in range(num_augmentations):\n",
        "                images = images.to(self.device)\n",
        "                labels = labels.to(self.device)\n",
        "\n",
        "                patched_images = self.patch_generator.place_patch(images, patch)\n",
        "                predictions = self.model(patched_images)\n",
        "\n",
        "                non_target_mask = labels != target_class\n",
        "                top1_success = torch.logical_and(\n",
        "                    predictions.argmax(dim=-1) == target_class, non_target_mask\n",
        "                )\n",
        "                top5_success = torch.logical_and(\n",
        "                    (predictions.topk(5, dim=-1)[1] == target_class).any(dim=-1),\n",
        "                    non_target_mask,\n",
        "                )\n",
        "\n",
        "                total_success += top1_success.sum().item()\n",
        "                total_top5_success += top5_success.sum().item()\n",
        "                total_samples += non_target_mask.sum().item()\n",
        "\n",
        "        return {\n",
        "            \"top1_success_rate\": total_success / total_samples,\n",
        "            \"top5_success_rate\": total_top5_success / total_samples,\n",
        "        }\n",
        "\n",
        "    def visualize_patch(self, patch, title=\"Adversarial Patch\"):\n",
        "        \"\"\"Visualize a single patch\"\"\"\n",
        "        patch_display = (torch.tanh(patch) + 1) / 2\n",
        "        patch_display = patch_display.cpu().permute(1, 2, 0).numpy()\n",
        "        patch_display = np.clip(patch_display, 0.0, 1.0)\n",
        "\n",
        "        plt.figure(figsize=(6, 6))\n",
        "        plt.imshow(patch_display)\n",
        "        plt.title(title)\n",
        "        plt.axis(\"off\")\n",
        "        plt.show()\n",
        "\n",
        "    def visualize_attack(self, patch, images, labels, class_names):\n",
        "        \"\"\"Visualize patch attack on sample images\"\"\"\n",
        "        with torch.no_grad():\n",
        "            # Get original predictions\n",
        "            orig_pred = self.model(images.to(self.device))\n",
        "            orig_pred_classes = orig_pred.argmax(dim=-1)\n",
        "\n",
        "            # Apply patch and get new predictions\n",
        "            patched_images = self.patch_generator.place_patch(\n",
        "                images.to(self.device), patch\n",
        "            )\n",
        "            patch_pred = self.model(patched_images)\n",
        "            patch_pred_classes = patch_pred.argmax(dim=-1)\n",
        "\n",
        "            # Visualization\n",
        "            fig, axes = plt.subplots(2, 4, figsize=(16, 8))\n",
        "            for i in range(4):\n",
        "                # Original image\n",
        "                axes[0, i].imshow(images[i].cpu().permute(1, 2, 0).numpy())\n",
        "                axes[0, i].set_title(f\"Original: {class_names[orig_pred_classes[i]]}\")\n",
        "                axes[0, i].axis(\"off\")\n",
        "\n",
        "                # Patched image\n",
        "                axes[1, i].imshow(patched_images[i].cpu().permute(1, 2, 0).numpy())\n",
        "                axes[1, i].set_title(f\"Patched: {class_names[patch_pred_classes[i]]}\")\n",
        "                axes[1, i].axis(\"off\")\n",
        "\n",
        "            plt.tight_layout()\n",
        "            plt.show()"
      ]
    },
    {
      "cell_type": "code",
      "execution_count": null,
      "metadata": {
        "colab": {
          "base_uri": "https://localhost:8080/",
          "height": 868
        },
        "id": "PoJbio9epLQF",
        "outputId": "8fc894fb-eaec-42a7-830c-6575bcfeb637"
      },
      "outputs": [
        {
          "output_type": "stream",
          "name": "stdout",
          "text": [
            "Loading CIFAR-10 dataset...\n",
            "Files already downloaded and verified\n",
            "Loading model...\n",
            "\n",
            "Generating patch for class: airplane\n"
          ]
        },
        {
          "output_type": "stream",
          "name": "stderr",
          "text": [
            "Epoch 1/5: 100%|██████████| 1407/1407 [00:47<00:00, 29.46it/s, loss=9.3829]\n"
          ]
        },
        {
          "output_type": "stream",
          "name": "stdout",
          "text": [
            "Epoch 1/5, Average Loss: 10.2420\n"
          ]
        },
        {
          "output_type": "stream",
          "name": "stderr",
          "text": [
            "Epoch 2/5: 100%|██████████| 1407/1407 [00:46<00:00, 30.47it/s, loss=10.6443]\n"
          ]
        },
        {
          "output_type": "stream",
          "name": "stdout",
          "text": [
            "Epoch 2/5, Average Loss: 10.2109\n"
          ]
        },
        {
          "output_type": "stream",
          "name": "stderr",
          "text": [
            "Epoch 3/5: 100%|██████████| 1407/1407 [00:45<00:00, 30.95it/s, loss=11.5071]\n"
          ]
        },
        {
          "output_type": "stream",
          "name": "stdout",
          "text": [
            "Epoch 3/5, Average Loss: 10.2015\n"
          ]
        },
        {
          "output_type": "stream",
          "name": "stderr",
          "text": [
            "Epoch 4/5: 100%|██████████| 1407/1407 [00:44<00:00, 31.43it/s, loss=10.4341]\n"
          ]
        },
        {
          "output_type": "stream",
          "name": "stdout",
          "text": [
            "Epoch 4/5, Average Loss: 10.2032\n"
          ]
        },
        {
          "output_type": "stream",
          "name": "stderr",
          "text": [
            "Epoch 5/5: 100%|██████████| 1407/1407 [00:44<00:00, 31.68it/s, loss=10.5198]\n"
          ]
        },
        {
          "output_type": "stream",
          "name": "stdout",
          "text": [
            "Epoch 5/5, Average Loss: 10.2055\n"
          ]
        },
        {
          "output_type": "stream",
          "name": "stderr",
          "text": [
            "Evaluating patch: 100%|██████████| 157/157 [00:07<00:00, 20.65it/s]\n"
          ]
        },
        {
          "output_type": "stream",
          "name": "stdout",
          "text": [
            "\n",
            "Results for airplane:\n",
            "Top-1 Success Rate: 0.00%\n",
            "Top-5 Success Rate: 0.00%\n"
          ]
        },
        {
          "output_type": "display_data",
          "data": {
            "text/plain": [
              "<Figure size 600x600 with 1 Axes>"
            ],
            "image/png": "[encoded data removed]"
          },
          "metadata": {}
        }
      ],
      "source": [
        "# Load data\n",
        "print(\"Loading CIFAR-10 dataset...\")\n",
        "train_loader, val_loader, class_names = load_cifar10()\n",
        "\n",
        "# Load model\n",
        "print(\"Loading model...\")\n",
        "model, device = load_model()\n",
        "\n",
        "# Initialize patch generator\n",
        "patch_generator = PatchGenerator(model, device)\n",
        "\n",
        "# Initialize patch tester\n",
        "patch_tester = PatchTester(model, device, patch_generator)\n",
        "\n",
        "# Generate patches for specific classes\n",
        "target_classes = [\"airplane\"]\n",
        "patch_size = 3  # Start with small patches\n",
        "results = {}\n",
        "\n",
        "for target_class in target_classes:\n",
        "    print(f\"\\nGenerating patch for class: {target_class}\")\n",
        "    class_idx = class_names.index(target_class)\n",
        "\n",
        "    # Generate patch\n",
        "    patch = patch_generator.generate_patch(\n",
        "        target_class=class_idx, patch_size=patch_size, train_loader=train_loader\n",
        "    )\n",
        "\n",
        "    # Evaluate patch\n",
        "    metrics = patch_tester.evaluate_patch(patch, val_loader, class_idx)\n",
        "    results[target_class] = metrics\n",
        "\n",
        "    # Visualize patch\n",
        "    print(f\"\\nResults for {target_class}:\")\n",
        "    print(f\"Top-1 Success Rate: {metrics['top1_success_rate']:.2%}\")\n",
        "    print(f\"Top-5 Success Rate: {metrics['top5_success_rate']:.2%}\")\n",
        "    patch_tester.visualize_patch(patch, f\"Adversarial Patch for {target_class}\")"
      ]
    }
  ],
  "metadata": {
    "language_info": {
      "name": "python"
    },
    "colab": {
      "provenance": [],
      "gpuType": "T4"
    },
    "accelerator": "GPU",
    "kernelspec": {
      "name": "python3",
      "display_name": "Python 3"
    }
  },
  "nbformat": 4,
  "nbformat_minor": 0
}